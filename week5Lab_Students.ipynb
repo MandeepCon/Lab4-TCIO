{
 "cells": [
  {
   "cell_type": "markdown",
   "metadata": {},
   "source": [
    "**Student Name:** Mandeep Singh Brar        \n",
    "**Student Id:** 8989367     \n",
    "**Course Name:** Machine Learning Programming       \n",
    "**Course No:** PROG8245"
   ]
  },
  {
   "attachments": {},
   "cell_type": "markdown",
   "metadata": {},
   "source": [
    "## **Tidying**"
   ]
  },
  {
   "attachments": {},
   "cell_type": "markdown",
   "metadata": {},
   "source": [
    "Part of the data engineering process is data cleaning and tidying. What is done in those two processes, is trying to make the data more readable, and complete. This makes much easier to analyze, visualize, and train the data.\n",
    "\n",
    "---\n"
   ]
  },
  {
   "attachments": {},
   "cell_type": "markdown",
   "metadata": {},
   "source": [
    "### **Data Tidying**\n",
    "\n",
    "Making the data more organized, and readable is the result of applying data tidying. \n",
    "\n",
    "In this section two main pandas functions are used in data tidying those are `melt` and `pivot_table`.\n",
    "\n",
    "---"
   ]
  },
  {
   "attachments": {},
   "cell_type": "markdown",
   "metadata": {},
   "source": [
    "Let's start by taking a look at the below dataframe, which represents the income ranges based on religion. This is part of the PEW research, which is famous in the US for conducting pollings and surveys on citizens.\n",
    "\n",
    "When the following are satisfied:\n",
    "\n",
    "\n",
    "1. Each variable forms a column\n",
    "2. Each observation forms a row\n",
    "3. Each type of observational unit forms a table\n",
    "\n",
    "We can then say that our dataset is *tidy*.\n",
    "\n",
    "First we need to import pandas to read csv datasets."
   ]
  },
  {
   "cell_type": "code",
   "execution_count": 230,
   "metadata": {},
   "outputs": [],
   "source": [
    "import pandas as pd\n",
    "import numpy as np\n",
    "import matplotlib.pyplot as plt\n",
    "import seaborn as sns"
   ]
  },
  {
   "cell_type": "markdown",
   "metadata": {},
   "source": [
    "- pandas (pd) – for data manipulation and analysis, especially working with DataFrames.\n",
    "- numpy (np) – for numerical operations, especially with arrays.\n",
    "- matplotlib.pyplot (plt) – for creating static visualizations (plots, charts).\n",
    "- seaborn (sns) – for making statistical data visualizations with simpler syntax and better style, built on top of matplotlib.\n",
    "\n",
    "---"
   ]
  },
  {
   "attachments": {},
   "cell_type": "markdown",
   "metadata": {},
   "source": [
    "### **PEW Research Dataset**"
   ]
  },
  {
   "attachments": {},
   "cell_type": "markdown",
   "metadata": {},
   "source": [
    "**1. Start by Importing the dataset into a pandas dataframe.**"
   ]
  },
  {
   "cell_type": "markdown",
   "metadata": {},
   "source": [
    "**Load and Preview the PEW Research Dataset**\n",
    "\n",
    "First, we will load the PEW Research dataset using pandas and display the first few rows to confirm it loaded correctly.\n"
   ]
  },
  {
   "cell_type": "code",
   "execution_count": 231,
   "metadata": {},
   "outputs": [
    {
     "data": {
      "application/vnd.microsoft.datawrangler.viewer.v0+json": {
       "columns": [
        {
         "name": "index",
         "rawType": "int64",
         "type": "integer"
        },
        {
         "name": "religion",
         "rawType": "object",
         "type": "string"
        },
        {
         "name": " <$10k",
         "rawType": "int64",
         "type": "integer"
        },
        {
         "name": " $10-20k",
         "rawType": "int64",
         "type": "integer"
        },
        {
         "name": "$20-30k",
         "rawType": "int64",
         "type": "integer"
        },
        {
         "name": "$30-40k",
         "rawType": "int64",
         "type": "integer"
        },
        {
         "name": " $40-50k",
         "rawType": "int64",
         "type": "integer"
        },
        {
         "name": "$50-75k",
         "rawType": "int64",
         "type": "integer"
        }
       ],
       "ref": "4a19bde9-d22e-43fe-a701-c2bbe6c5aea5",
       "rows": [
        [
         "0",
         "Agnostic",
         "27",
         "34",
         "60",
         "81",
         "76",
         "137"
        ],
        [
         "1",
         "Atheist",
         "12",
         "27",
         "37",
         "52",
         "35",
         "70"
        ],
        [
         "2",
         "Buddhist",
         "27",
         "21",
         "30",
         "34",
         "33",
         "58"
        ],
        [
         "3",
         "Catholic",
         "418",
         "617",
         "732",
         "670",
         "638",
         "1116"
        ],
        [
         "4",
         "Dont know/refused",
         "15",
         "14",
         "15",
         "11",
         "10",
         "35"
        ]
       ],
       "shape": {
        "columns": 7,
        "rows": 5
       }
      },
      "text/html": [
       "<div>\n",
       "<style scoped>\n",
       "    .dataframe tbody tr th:only-of-type {\n",
       "        vertical-align: middle;\n",
       "    }\n",
       "\n",
       "    .dataframe tbody tr th {\n",
       "        vertical-align: top;\n",
       "    }\n",
       "\n",
       "    .dataframe thead th {\n",
       "        text-align: right;\n",
       "    }\n",
       "</style>\n",
       "<table border=\"1\" class=\"dataframe\">\n",
       "  <thead>\n",
       "    <tr style=\"text-align: right;\">\n",
       "      <th></th>\n",
       "      <th>religion</th>\n",
       "      <th>&lt;$10k</th>\n",
       "      <th>$10-20k</th>\n",
       "      <th>$20-30k</th>\n",
       "      <th>$30-40k</th>\n",
       "      <th>$40-50k</th>\n",
       "      <th>$50-75k</th>\n",
       "    </tr>\n",
       "  </thead>\n",
       "  <tbody>\n",
       "    <tr>\n",
       "      <th>0</th>\n",
       "      <td>Agnostic</td>\n",
       "      <td>27</td>\n",
       "      <td>34</td>\n",
       "      <td>60</td>\n",
       "      <td>81</td>\n",
       "      <td>76</td>\n",
       "      <td>137</td>\n",
       "    </tr>\n",
       "    <tr>\n",
       "      <th>1</th>\n",
       "      <td>Atheist</td>\n",
       "      <td>12</td>\n",
       "      <td>27</td>\n",
       "      <td>37</td>\n",
       "      <td>52</td>\n",
       "      <td>35</td>\n",
       "      <td>70</td>\n",
       "    </tr>\n",
       "    <tr>\n",
       "      <th>2</th>\n",
       "      <td>Buddhist</td>\n",
       "      <td>27</td>\n",
       "      <td>21</td>\n",
       "      <td>30</td>\n",
       "      <td>34</td>\n",
       "      <td>33</td>\n",
       "      <td>58</td>\n",
       "    </tr>\n",
       "    <tr>\n",
       "      <th>3</th>\n",
       "      <td>Catholic</td>\n",
       "      <td>418</td>\n",
       "      <td>617</td>\n",
       "      <td>732</td>\n",
       "      <td>670</td>\n",
       "      <td>638</td>\n",
       "      <td>1116</td>\n",
       "    </tr>\n",
       "    <tr>\n",
       "      <th>4</th>\n",
       "      <td>Dont know/refused</td>\n",
       "      <td>15</td>\n",
       "      <td>14</td>\n",
       "      <td>15</td>\n",
       "      <td>11</td>\n",
       "      <td>10</td>\n",
       "      <td>35</td>\n",
       "    </tr>\n",
       "  </tbody>\n",
       "</table>\n",
       "</div>"
      ],
      "text/plain": [
       "            religion   <$10k   $10-20k  $20-30k  $30-40k   $40-50k  $50-75k\n",
       "0           Agnostic      27        34       60       81        76      137\n",
       "1            Atheist      12        27       37       52        35       70\n",
       "2           Buddhist      27        21       30       34        33       58\n",
       "3           Catholic     418       617      732      670       638     1116\n",
       "4  Dont know/refused      15        14       15       11        10       35"
      ]
     },
     "execution_count": 231,
     "metadata": {},
     "output_type": "execute_result"
    }
   ],
   "source": [
    "# Load the PEW Research dataset\n",
    "pew = pd.read_csv('Data/pew-raw.csv')\n",
    "\n",
    "# Display the first few rows to confirm\n",
    "pew.head()"
   ]
  },
  {
   "attachments": {},
   "cell_type": "markdown",
   "metadata": {},
   "source": [
    "**2. Observe the dataset using the `loc`, `iloc`, `head`, or `tail` approaches**\n",
    "\n",
    "Let's explore different ways to access data in our DataFrame."
   ]
  },
  {
   "cell_type": "code",
   "execution_count": 232,
   "metadata": {},
   "outputs": [
    {
     "data": {
      "application/vnd.microsoft.datawrangler.viewer.v0+json": {
       "columns": [
        {
         "name": "index",
         "rawType": "int64",
         "type": "integer"
        },
        {
         "name": "religion",
         "rawType": "object",
         "type": "string"
        },
        {
         "name": " <$10k",
         "rawType": "int64",
         "type": "integer"
        },
        {
         "name": " $10-20k",
         "rawType": "int64",
         "type": "integer"
        },
        {
         "name": "$20-30k",
         "rawType": "int64",
         "type": "integer"
        },
        {
         "name": "$30-40k",
         "rawType": "int64",
         "type": "integer"
        },
        {
         "name": " $40-50k",
         "rawType": "int64",
         "type": "integer"
        },
        {
         "name": "$50-75k",
         "rawType": "int64",
         "type": "integer"
        }
       ],
       "ref": "2a040264-8719-497a-b181-fe46c1548854",
       "rows": [
        [
         "0",
         "Agnostic",
         "27",
         "34",
         "60",
         "81",
         "76",
         "137"
        ],
        [
         "1",
         "Atheist",
         "12",
         "27",
         "37",
         "52",
         "35",
         "70"
        ],
        [
         "2",
         "Buddhist",
         "27",
         "21",
         "30",
         "34",
         "33",
         "58"
        ],
        [
         "3",
         "Catholic",
         "418",
         "617",
         "732",
         "670",
         "638",
         "1116"
        ],
        [
         "4",
         "Dont know/refused",
         "15",
         "14",
         "15",
         "11",
         "10",
         "35"
        ]
       ],
       "shape": {
        "columns": 7,
        "rows": 5
       }
      },
      "text/html": [
       "<div>\n",
       "<style scoped>\n",
       "    .dataframe tbody tr th:only-of-type {\n",
       "        vertical-align: middle;\n",
       "    }\n",
       "\n",
       "    .dataframe tbody tr th {\n",
       "        vertical-align: top;\n",
       "    }\n",
       "\n",
       "    .dataframe thead th {\n",
       "        text-align: right;\n",
       "    }\n",
       "</style>\n",
       "<table border=\"1\" class=\"dataframe\">\n",
       "  <thead>\n",
       "    <tr style=\"text-align: right;\">\n",
       "      <th></th>\n",
       "      <th>religion</th>\n",
       "      <th>&lt;$10k</th>\n",
       "      <th>$10-20k</th>\n",
       "      <th>$20-30k</th>\n",
       "      <th>$30-40k</th>\n",
       "      <th>$40-50k</th>\n",
       "      <th>$50-75k</th>\n",
       "    </tr>\n",
       "  </thead>\n",
       "  <tbody>\n",
       "    <tr>\n",
       "      <th>0</th>\n",
       "      <td>Agnostic</td>\n",
       "      <td>27</td>\n",
       "      <td>34</td>\n",
       "      <td>60</td>\n",
       "      <td>81</td>\n",
       "      <td>76</td>\n",
       "      <td>137</td>\n",
       "    </tr>\n",
       "    <tr>\n",
       "      <th>1</th>\n",
       "      <td>Atheist</td>\n",
       "      <td>12</td>\n",
       "      <td>27</td>\n",
       "      <td>37</td>\n",
       "      <td>52</td>\n",
       "      <td>35</td>\n",
       "      <td>70</td>\n",
       "    </tr>\n",
       "    <tr>\n",
       "      <th>2</th>\n",
       "      <td>Buddhist</td>\n",
       "      <td>27</td>\n",
       "      <td>21</td>\n",
       "      <td>30</td>\n",
       "      <td>34</td>\n",
       "      <td>33</td>\n",
       "      <td>58</td>\n",
       "    </tr>\n",
       "    <tr>\n",
       "      <th>3</th>\n",
       "      <td>Catholic</td>\n",
       "      <td>418</td>\n",
       "      <td>617</td>\n",
       "      <td>732</td>\n",
       "      <td>670</td>\n",
       "      <td>638</td>\n",
       "      <td>1116</td>\n",
       "    </tr>\n",
       "    <tr>\n",
       "      <th>4</th>\n",
       "      <td>Dont know/refused</td>\n",
       "      <td>15</td>\n",
       "      <td>14</td>\n",
       "      <td>15</td>\n",
       "      <td>11</td>\n",
       "      <td>10</td>\n",
       "      <td>35</td>\n",
       "    </tr>\n",
       "  </tbody>\n",
       "</table>\n",
       "</div>"
      ],
      "text/plain": [
       "            religion   <$10k   $10-20k  $20-30k  $30-40k   $40-50k  $50-75k\n",
       "0           Agnostic      27        34       60       81        76      137\n",
       "1            Atheist      12        27       37       52        35       70\n",
       "2           Buddhist      27        21       30       34        33       58\n",
       "3           Catholic     418       617      732      670       638     1116\n",
       "4  Dont know/refused      15        14       15       11        10       35"
      ]
     },
     "metadata": {},
     "output_type": "display_data"
    },
    {
     "data": {
      "application/vnd.microsoft.datawrangler.viewer.v0+json": {
       "columns": [
        {
         "name": "index",
         "rawType": "int64",
         "type": "integer"
        },
        {
         "name": "religion",
         "rawType": "object",
         "type": "string"
        },
        {
         "name": " <$10k",
         "rawType": "int64",
         "type": "integer"
        },
        {
         "name": " $10-20k",
         "rawType": "int64",
         "type": "integer"
        },
        {
         "name": "$20-30k",
         "rawType": "int64",
         "type": "integer"
        },
        {
         "name": "$30-40k",
         "rawType": "int64",
         "type": "integer"
        },
        {
         "name": " $40-50k",
         "rawType": "int64",
         "type": "integer"
        },
        {
         "name": "$50-75k",
         "rawType": "int64",
         "type": "integer"
        }
       ],
       "ref": "d3c1279c-7f13-4835-b838-a45f2611b3a7",
       "rows": [
        [
         "5",
         "Evangelical Prot ",
         "575",
         "869",
         "1064",
         "982",
         "881",
         "1486"
        ],
        [
         "6",
         "Hindu ",
         "1",
         "9",
         "7",
         "9",
         "11",
         "34"
        ],
        [
         "7",
         "Historically Black Prot ",
         "228",
         "244",
         "236",
         "238",
         "197",
         "223"
        ],
        [
         "8",
         "Jehovahs Witness ",
         "20",
         "27",
         "24",
         "24",
         "21",
         "30"
        ],
        [
         "9",
         "Jewish ",
         "19",
         "19",
         "25",
         "25",
         "30",
         "95"
        ]
       ],
       "shape": {
        "columns": 7,
        "rows": 5
       }
      },
      "text/html": [
       "<div>\n",
       "<style scoped>\n",
       "    .dataframe tbody tr th:only-of-type {\n",
       "        vertical-align: middle;\n",
       "    }\n",
       "\n",
       "    .dataframe tbody tr th {\n",
       "        vertical-align: top;\n",
       "    }\n",
       "\n",
       "    .dataframe thead th {\n",
       "        text-align: right;\n",
       "    }\n",
       "</style>\n",
       "<table border=\"1\" class=\"dataframe\">\n",
       "  <thead>\n",
       "    <tr style=\"text-align: right;\">\n",
       "      <th></th>\n",
       "      <th>religion</th>\n",
       "      <th>&lt;$10k</th>\n",
       "      <th>$10-20k</th>\n",
       "      <th>$20-30k</th>\n",
       "      <th>$30-40k</th>\n",
       "      <th>$40-50k</th>\n",
       "      <th>$50-75k</th>\n",
       "    </tr>\n",
       "  </thead>\n",
       "  <tbody>\n",
       "    <tr>\n",
       "      <th>5</th>\n",
       "      <td>Evangelical Prot</td>\n",
       "      <td>575</td>\n",
       "      <td>869</td>\n",
       "      <td>1064</td>\n",
       "      <td>982</td>\n",
       "      <td>881</td>\n",
       "      <td>1486</td>\n",
       "    </tr>\n",
       "    <tr>\n",
       "      <th>6</th>\n",
       "      <td>Hindu</td>\n",
       "      <td>1</td>\n",
       "      <td>9</td>\n",
       "      <td>7</td>\n",
       "      <td>9</td>\n",
       "      <td>11</td>\n",
       "      <td>34</td>\n",
       "    </tr>\n",
       "    <tr>\n",
       "      <th>7</th>\n",
       "      <td>Historically Black Prot</td>\n",
       "      <td>228</td>\n",
       "      <td>244</td>\n",
       "      <td>236</td>\n",
       "      <td>238</td>\n",
       "      <td>197</td>\n",
       "      <td>223</td>\n",
       "    </tr>\n",
       "    <tr>\n",
       "      <th>8</th>\n",
       "      <td>Jehovahs Witness</td>\n",
       "      <td>20</td>\n",
       "      <td>27</td>\n",
       "      <td>24</td>\n",
       "      <td>24</td>\n",
       "      <td>21</td>\n",
       "      <td>30</td>\n",
       "    </tr>\n",
       "    <tr>\n",
       "      <th>9</th>\n",
       "      <td>Jewish</td>\n",
       "      <td>19</td>\n",
       "      <td>19</td>\n",
       "      <td>25</td>\n",
       "      <td>25</td>\n",
       "      <td>30</td>\n",
       "      <td>95</td>\n",
       "    </tr>\n",
       "  </tbody>\n",
       "</table>\n",
       "</div>"
      ],
      "text/plain": [
       "                   religion   <$10k   $10-20k  $20-30k  $30-40k   $40-50k  \\\n",
       "5         Evangelical Prot      575       869     1064      982       881   \n",
       "6                    Hindu        1         9        7        9        11   \n",
       "7  Historically Black Prot      228       244      236      238       197   \n",
       "8         Jehovahs Witness       20        27       24       24        21   \n",
       "9                   Jewish       19        19       25       25        30   \n",
       "\n",
       "   $50-75k  \n",
       "5     1486  \n",
       "6       34  \n",
       "7      223  \n",
       "8       30  \n",
       "9       95  "
      ]
     },
     "metadata": {},
     "output_type": "display_data"
    },
    {
     "data": {
      "application/vnd.microsoft.datawrangler.viewer.v0+json": {
       "columns": [
        {
         "name": "index",
         "rawType": "object",
         "type": "string"
        },
        {
         "name": "0",
         "rawType": "object",
         "type": "unknown"
        }
       ],
       "ref": "303c609d-5057-4bc6-a1e3-5412991284af",
       "rows": [
        [
         "religion",
         "Agnostic"
        ],
        [
         " <$10k",
         "27"
        ],
        [
         " $10-20k",
         "34"
        ],
        [
         "$20-30k",
         "60"
        ],
        [
         "$30-40k",
         "81"
        ],
        [
         " $40-50k",
         "76"
        ],
        [
         "$50-75k",
         "137"
        ]
       ],
       "shape": {
        "columns": 1,
        "rows": 7
       }
      },
      "text/plain": [
       "religion    Agnostic\n",
       " <$10k            27\n",
       " $10-20k          34\n",
       "$20-30k           60\n",
       "$30-40k           81\n",
       " $40-50k          76\n",
       "$50-75k          137\n",
       "Name: 0, dtype: object"
      ]
     },
     "metadata": {},
     "output_type": "display_data"
    },
    {
     "data": {
      "application/vnd.microsoft.datawrangler.viewer.v0+json": {
       "columns": [
        {
         "name": "index",
         "rawType": "object",
         "type": "string"
        },
        {
         "name": "2",
         "rawType": "object",
         "type": "unknown"
        }
       ],
       "ref": "b441501a-e5ab-4d65-9291-f72752e3ca04",
       "rows": [
        [
         "religion",
         "Buddhist"
        ],
        [
         " <$10k",
         "27"
        ],
        [
         " $10-20k",
         "21"
        ],
        [
         "$20-30k",
         "30"
        ],
        [
         "$30-40k",
         "34"
        ],
        [
         " $40-50k",
         "33"
        ],
        [
         "$50-75k",
         "58"
        ]
       ],
       "shape": {
        "columns": 1,
        "rows": 7
       }
      },
      "text/plain": [
       "religion    Buddhist\n",
       " <$10k            27\n",
       " $10-20k          21\n",
       "$20-30k           30\n",
       "$30-40k           34\n",
       " $40-50k          33\n",
       "$50-75k           58\n",
       "Name: 2, dtype: object"
      ]
     },
     "metadata": {},
     "output_type": "display_data"
    },
    {
     "data": {
      "text/plain": [
       "'Atheist'"
      ]
     },
     "metadata": {},
     "output_type": "display_data"
    },
    {
     "data": {
      "application/vnd.microsoft.datawrangler.viewer.v0+json": {
       "columns": [
        {
         "name": "index",
         "rawType": "int64",
         "type": "integer"
        },
        {
         "name": "religion",
         "rawType": "object",
         "type": "string"
        },
        {
         "name": " <$10k",
         "rawType": "int64",
         "type": "integer"
        },
        {
         "name": " $10-20k",
         "rawType": "int64",
         "type": "integer"
        },
        {
         "name": "$20-30k",
         "rawType": "int64",
         "type": "integer"
        }
       ],
       "ref": "d7d42b6d-8c9d-4fb9-9cbe-ce2d0418e21e",
       "rows": [
        [
         "0",
         "Agnostic",
         "27",
         "34",
         "60"
        ],
        [
         "1",
         "Atheist",
         "12",
         "27",
         "37"
        ],
        [
         "2",
         "Buddhist",
         "27",
         "21",
         "30"
        ]
       ],
       "shape": {
        "columns": 4,
        "rows": 3
       }
      },
      "text/html": [
       "<div>\n",
       "<style scoped>\n",
       "    .dataframe tbody tr th:only-of-type {\n",
       "        vertical-align: middle;\n",
       "    }\n",
       "\n",
       "    .dataframe tbody tr th {\n",
       "        vertical-align: top;\n",
       "    }\n",
       "\n",
       "    .dataframe thead th {\n",
       "        text-align: right;\n",
       "    }\n",
       "</style>\n",
       "<table border=\"1\" class=\"dataframe\">\n",
       "  <thead>\n",
       "    <tr style=\"text-align: right;\">\n",
       "      <th></th>\n",
       "      <th>religion</th>\n",
       "      <th>&lt;$10k</th>\n",
       "      <th>$10-20k</th>\n",
       "      <th>$20-30k</th>\n",
       "    </tr>\n",
       "  </thead>\n",
       "  <tbody>\n",
       "    <tr>\n",
       "      <th>0</th>\n",
       "      <td>Agnostic</td>\n",
       "      <td>27</td>\n",
       "      <td>34</td>\n",
       "      <td>60</td>\n",
       "    </tr>\n",
       "    <tr>\n",
       "      <th>1</th>\n",
       "      <td>Atheist</td>\n",
       "      <td>12</td>\n",
       "      <td>27</td>\n",
       "      <td>37</td>\n",
       "    </tr>\n",
       "    <tr>\n",
       "      <th>2</th>\n",
       "      <td>Buddhist</td>\n",
       "      <td>27</td>\n",
       "      <td>21</td>\n",
       "      <td>30</td>\n",
       "    </tr>\n",
       "  </tbody>\n",
       "</table>\n",
       "</div>"
      ],
      "text/plain": [
       "   religion   <$10k   $10-20k  $20-30k\n",
       "0  Agnostic      27        34       60\n",
       "1   Atheist      12        27       37\n",
       "2  Buddhist      27        21       30"
      ]
     },
     "metadata": {},
     "output_type": "display_data"
    }
   ],
   "source": [
    "# Show the first 5 rows\n",
    "display(pew.head())\n",
    "\n",
    "# Show the last 5 rows\n",
    "display(pew.tail())\n",
    "\n",
    "# Use .iloc to view the first row\n",
    "display(pew.iloc[0])\n",
    "\n",
    "# Use .loc to view a specific row by index (e.g., index 2)\n",
    "display(pew.loc[2])\n",
    "\n",
    "# View a specific value (e.g., religion in row 1)\n",
    "display(pew.loc[1, 'religion'])\n",
    "\n",
    "# View a range of rows and columns using iloc\n",
    "display(pew.iloc[0:3, 0:4])  # First 3 rows, first 4 columns"
   ]
  },
  {
   "attachments": {},
   "cell_type": "markdown",
   "metadata": {},
   "source": [
    "***What does not seem right in the above dataframe?***"
   ]
  },
  {
   "cell_type": "markdown",
   "metadata": {},
   "source": [
    "- Column names have extra spaces and inconsistent formatting like ' <$10k', ' $10-20k', ' $40-50k', etc.\n",
    "- Column names start with non-Alphanumeric characters like <, $, or spaces which will lead to confusion.\n",
    "- Some values might be strings instead of numeric. \n",
    "- Columns are actually categories (Not Values) like the income bracket columns (<$10k, $10-20k, etc.) are being treated as separate columns, but each column represents an income category with the count for each religion."
   ]
  },
  {
   "attachments": {},
   "cell_type": "markdown",
   "metadata": {},
   "source": [
    "**3. Try to make the column headers represent a variable not a value. For that, use the `melt` function.**"
   ]
  },
  {
   "cell_type": "code",
   "execution_count": 233,
   "metadata": {},
   "outputs": [
    {
     "name": "stdout",
     "output_type": "stream",
     "text": [
      "                    religion    income  count\n",
      "0                   Agnostic     <$10k     27\n",
      "1                    Atheist     <$10k     12\n",
      "2                   Buddhist     <$10k     27\n",
      "3                   Catholic     <$10k    418\n",
      "4          Dont know/refused     <$10k     15\n",
      "5          Evangelical Prot      <$10k    575\n",
      "6                     Hindu      <$10k      1\n",
      "7   Historically Black Prot      <$10k    228\n",
      "8          Jehovahs Witness      <$10k     20\n",
      "9                    Jewish      <$10k     19\n",
      "10                  Agnostic   $10-20k     34\n",
      "11                   Atheist   $10-20k     27\n",
      "12                  Buddhist   $10-20k     21\n",
      "13                  Catholic   $10-20k    617\n",
      "14         Dont know/refused   $10-20k     14\n"
     ]
    }
   ],
   "source": [
    "# Use melt to convert wide to long format\n",
    "pew_long = pew.melt(id_vars='religion', \n",
    "                    var_name='income', \n",
    "                    value_name='count')\n",
    "\n",
    "# Show the first few rows of the reshaped DataFrame\n",
    "print(pew_long.head(15))"
   ]
  },
  {
   "attachments": {},
   "cell_type": "markdown",
   "metadata": {},
   "source": [
    "---\n",
    "\n",
    "### **Billboard Dataset**"
   ]
  },
  {
   "attachments": {},
   "cell_type": "markdown",
   "metadata": {},
   "source": [
    "This dataset outlines data about the top hit songs on the Billboard list and the week from entrance that it was in the billboard with the ranking."
   ]
  },
  {
   "attachments": {},
   "cell_type": "markdown",
   "metadata": {},
   "source": [
    "**1. Read the dataset and store it in a pandas dataframe. Note that the usual utf-8 encoding does not work on this dataset. The reason behind this is that there might be characters that are not supported by `utf-8`.**\n",
    "\n",
    "The suggestion is to use for this dataset `unicode_escape` encoding. (converts all non-ASCII characters into their \\uXXXX representations)"
   ]
  },
  {
   "cell_type": "code",
   "execution_count": 234,
   "metadata": {},
   "outputs": [],
   "source": [
    "# Read the billboard dataset with unicode_escape encoding\n",
    "billboard = pd.read_csv('Data/billboard.csv', encoding='unicode_escape')"
   ]
  },
  {
   "attachments": {},
   "cell_type": "markdown",
   "metadata": {},
   "source": [
    "**2. Observe the first few rows of the dataset.**"
   ]
  },
  {
   "cell_type": "code",
   "execution_count": 235,
   "metadata": {},
   "outputs": [
    {
     "name": "stdout",
     "output_type": "stream",
     "text": [
      "   year      artist.inverted                                  track  time  \\\n",
      "0  2000      Destiny's Child               Independent Women Part I  3:38   \n",
      "1  2000              Santana                           Maria, Maria  4:18   \n",
      "2  2000        Savage Garden                     I Knew I Loved You  4:07   \n",
      "3  2000              Madonna                                  Music  3:45   \n",
      "4  2000  Aguilera, Christina  Come On Over Baby (All I Want Is You)  3:38   \n",
      "\n",
      "  genre date.entered date.peaked  x1st.week  x2nd.week  x3rd.week  ...  \\\n",
      "0  Rock   2000-09-23  2000-11-18         78       63.0       49.0  ...   \n",
      "1  Rock   2000-02-12  2000-04-08         15        8.0        6.0  ...   \n",
      "2  Rock   1999-10-23  2000-01-29         71       48.0       43.0  ...   \n",
      "3  Rock   2000-08-12  2000-09-16         41       23.0       18.0  ...   \n",
      "4  Rock   2000-08-05  2000-10-14         57       47.0       45.0  ...   \n",
      "\n",
      "   x67th.week  x68th.week  x69th.week  x70th.week  x71st.week  x72nd.week  \\\n",
      "0         NaN         NaN         NaN         NaN         NaN         NaN   \n",
      "1         NaN         NaN         NaN         NaN         NaN         NaN   \n",
      "2         NaN         NaN         NaN         NaN         NaN         NaN   \n",
      "3         NaN         NaN         NaN         NaN         NaN         NaN   \n",
      "4         NaN         NaN         NaN         NaN         NaN         NaN   \n",
      "\n",
      "   x73rd.week  x74th.week  x75th.week  x76th.week  \n",
      "0         NaN         NaN         NaN         NaN  \n",
      "1         NaN         NaN         NaN         NaN  \n",
      "2         NaN         NaN         NaN         NaN  \n",
      "3         NaN         NaN         NaN         NaN  \n",
      "4         NaN         NaN         NaN         NaN  \n",
      "\n",
      "[5 rows x 83 columns]\n"
     ]
    }
   ],
   "source": [
    "# Display the first five rows\n",
    "print(billboard.head())"
   ]
  },
  {
   "attachments": {},
   "cell_type": "markdown",
   "metadata": {},
   "source": [
    "***What is wrong with the above dataset?***\n",
    "\n",
    "- Wide formatting each weeks ranking is seperated by different column name such as: (x1st.week, x2nd.week, ..., x76th.week). It makes us too hard to analyze the dataset.\n",
    "- Their are lots of missing values as many songs dont stay on the chart for 76 weeks. As their are lots of NaNs. \n",
    "- Columns have inconsistent and awkward names like x1st.week, x2nd.week so on. "
   ]
  },
  {
   "attachments": {},
   "cell_type": "markdown",
   "metadata": {},
   "source": [
    "**3. Let's, again, use the `melt` function to fix the general structure of the dataframe.**"
   ]
  },
  {
   "cell_type": "code",
   "execution_count": 236,
   "metadata": {},
   "outputs": [
    {
     "data": {
      "application/vnd.microsoft.datawrangler.viewer.v0+json": {
       "columns": [
        {
         "name": "index",
         "rawType": "int64",
         "type": "integer"
        },
        {
         "name": "year",
         "rawType": "int64",
         "type": "integer"
        },
        {
         "name": "artist.inverted",
         "rawType": "object",
         "type": "string"
        },
        {
         "name": "track",
         "rawType": "object",
         "type": "string"
        },
        {
         "name": "time",
         "rawType": "object",
         "type": "string"
        },
        {
         "name": "genre",
         "rawType": "object",
         "type": "string"
        },
        {
         "name": "date.entered",
         "rawType": "object",
         "type": "string"
        },
        {
         "name": "date.peaked",
         "rawType": "object",
         "type": "string"
        },
        {
         "name": "week",
         "rawType": "object",
         "type": "string"
        },
        {
         "name": "rank",
         "rawType": "float64",
         "type": "float"
        }
       ],
       "ref": "79680f78-bb55-4b4e-997b-930285c56bf6",
       "rows": [
        [
         "0",
         "2000",
         "Destiny's Child",
         "Independent Women Part I",
         "3:38",
         "Rock",
         "2000-09-23",
         "2000-11-18",
         "x1st.week",
         "78.0"
        ],
        [
         "1",
         "2000",
         "Santana",
         "Maria, Maria",
         "4:18",
         "Rock",
         "2000-02-12",
         "2000-04-08",
         "x1st.week",
         "15.0"
        ],
        [
         "2",
         "2000",
         "Savage Garden",
         "I Knew I Loved You",
         "4:07",
         "Rock",
         "1999-10-23",
         "2000-01-29",
         "x1st.week",
         "71.0"
        ],
        [
         "3",
         "2000",
         "Madonna",
         "Music",
         "3:45",
         "Rock",
         "2000-08-12",
         "2000-09-16",
         "x1st.week",
         "41.0"
        ],
        [
         "4",
         "2000",
         "Aguilera, Christina",
         "Come On Over Baby (All I Want Is You)",
         "3:38",
         "Rock",
         "2000-08-05",
         "2000-10-14",
         "x1st.week",
         "57.0"
        ]
       ],
       "shape": {
        "columns": 9,
        "rows": 5
       }
      },
      "text/html": [
       "<div>\n",
       "<style scoped>\n",
       "    .dataframe tbody tr th:only-of-type {\n",
       "        vertical-align: middle;\n",
       "    }\n",
       "\n",
       "    .dataframe tbody tr th {\n",
       "        vertical-align: top;\n",
       "    }\n",
       "\n",
       "    .dataframe thead th {\n",
       "        text-align: right;\n",
       "    }\n",
       "</style>\n",
       "<table border=\"1\" class=\"dataframe\">\n",
       "  <thead>\n",
       "    <tr style=\"text-align: right;\">\n",
       "      <th></th>\n",
       "      <th>year</th>\n",
       "      <th>artist.inverted</th>\n",
       "      <th>track</th>\n",
       "      <th>time</th>\n",
       "      <th>genre</th>\n",
       "      <th>date.entered</th>\n",
       "      <th>date.peaked</th>\n",
       "      <th>week</th>\n",
       "      <th>rank</th>\n",
       "    </tr>\n",
       "  </thead>\n",
       "  <tbody>\n",
       "    <tr>\n",
       "      <th>0</th>\n",
       "      <td>2000</td>\n",
       "      <td>Destiny's Child</td>\n",
       "      <td>Independent Women Part I</td>\n",
       "      <td>3:38</td>\n",
       "      <td>Rock</td>\n",
       "      <td>2000-09-23</td>\n",
       "      <td>2000-11-18</td>\n",
       "      <td>x1st.week</td>\n",
       "      <td>78.0</td>\n",
       "    </tr>\n",
       "    <tr>\n",
       "      <th>1</th>\n",
       "      <td>2000</td>\n",
       "      <td>Santana</td>\n",
       "      <td>Maria, Maria</td>\n",
       "      <td>4:18</td>\n",
       "      <td>Rock</td>\n",
       "      <td>2000-02-12</td>\n",
       "      <td>2000-04-08</td>\n",
       "      <td>x1st.week</td>\n",
       "      <td>15.0</td>\n",
       "    </tr>\n",
       "    <tr>\n",
       "      <th>2</th>\n",
       "      <td>2000</td>\n",
       "      <td>Savage Garden</td>\n",
       "      <td>I Knew I Loved You</td>\n",
       "      <td>4:07</td>\n",
       "      <td>Rock</td>\n",
       "      <td>1999-10-23</td>\n",
       "      <td>2000-01-29</td>\n",
       "      <td>x1st.week</td>\n",
       "      <td>71.0</td>\n",
       "    </tr>\n",
       "    <tr>\n",
       "      <th>3</th>\n",
       "      <td>2000</td>\n",
       "      <td>Madonna</td>\n",
       "      <td>Music</td>\n",
       "      <td>3:45</td>\n",
       "      <td>Rock</td>\n",
       "      <td>2000-08-12</td>\n",
       "      <td>2000-09-16</td>\n",
       "      <td>x1st.week</td>\n",
       "      <td>41.0</td>\n",
       "    </tr>\n",
       "    <tr>\n",
       "      <th>4</th>\n",
       "      <td>2000</td>\n",
       "      <td>Aguilera, Christina</td>\n",
       "      <td>Come On Over Baby (All I Want Is You)</td>\n",
       "      <td>3:38</td>\n",
       "      <td>Rock</td>\n",
       "      <td>2000-08-05</td>\n",
       "      <td>2000-10-14</td>\n",
       "      <td>x1st.week</td>\n",
       "      <td>57.0</td>\n",
       "    </tr>\n",
       "  </tbody>\n",
       "</table>\n",
       "</div>"
      ],
      "text/plain": [
       "   year      artist.inverted                                  track  time  \\\n",
       "0  2000      Destiny's Child               Independent Women Part I  3:38   \n",
       "1  2000              Santana                           Maria, Maria  4:18   \n",
       "2  2000        Savage Garden                     I Knew I Loved You  4:07   \n",
       "3  2000              Madonna                                  Music  3:45   \n",
       "4  2000  Aguilera, Christina  Come On Over Baby (All I Want Is You)  3:38   \n",
       "\n",
       "  genre date.entered date.peaked       week  rank  \n",
       "0  Rock   2000-09-23  2000-11-18  x1st.week  78.0  \n",
       "1  Rock   2000-02-12  2000-04-08  x1st.week  15.0  \n",
       "2  Rock   1999-10-23  2000-01-29  x1st.week  71.0  \n",
       "3  Rock   2000-08-12  2000-09-16  x1st.week  41.0  \n",
       "4  Rock   2000-08-05  2000-10-14  x1st.week  57.0  "
      ]
     },
     "execution_count": 236,
     "metadata": {},
     "output_type": "execute_result"
    }
   ],
   "source": [
    "# Melt the week columns into two columns: 'week' and 'rank'\n",
    "week_cols = [col for col in billboard.columns if 'week' in col]\n",
    "billboard_long = pd.melt(\n",
    "    billboard,\n",
    "    id_vars=['year', 'artist.inverted', 'track', 'time', 'genre', 'date.entered', 'date.peaked'],\n",
    "    value_vars=week_cols,\n",
    "    var_name='week',\n",
    "    value_name='rank'\n",
    ")\n",
    "\n",
    "# Drop rows where rank is missing\n",
    "billboard_long = billboard_long.dropna(subset=['rank'])\n",
    "\n",
    "# Show the reshaped dataframe\n",
    "billboard_long.head()\n"
   ]
  },
  {
   "attachments": {},
   "cell_type": "markdown",
   "metadata": {},
   "source": [
    "If we inspect the current dataframe. We find that it is structured in a better way than before. \n",
    "\n",
    "However, the ***Week*** column looks a bit ugly!\n",
    "\n",
    "**4. Let's try to place only the week number in that column without the extras surronding it.**"
   ]
  },
  {
   "cell_type": "code",
   "execution_count": 237,
   "metadata": {},
   "outputs": [
    {
     "data": {
      "application/vnd.microsoft.datawrangler.viewer.v0+json": {
       "columns": [
        {
         "name": "index",
         "rawType": "int64",
         "type": "integer"
        },
        {
         "name": "year",
         "rawType": "int64",
         "type": "integer"
        },
        {
         "name": "artist.inverted",
         "rawType": "object",
         "type": "string"
        },
        {
         "name": "track",
         "rawType": "object",
         "type": "string"
        },
        {
         "name": "time",
         "rawType": "object",
         "type": "string"
        },
        {
         "name": "genre",
         "rawType": "object",
         "type": "string"
        },
        {
         "name": "date.entered",
         "rawType": "object",
         "type": "string"
        },
        {
         "name": "date.peaked",
         "rawType": "object",
         "type": "string"
        },
        {
         "name": "week",
         "rawType": "int64",
         "type": "integer"
        },
        {
         "name": "rank",
         "rawType": "float64",
         "type": "float"
        }
       ],
       "ref": "d04ae536-7b2c-4cc9-a7bc-466247287b94",
       "rows": [
        [
         "0",
         "2000",
         "Destiny's Child",
         "Independent Women Part I",
         "3:38",
         "Rock",
         "2000-09-23",
         "2000-11-18",
         "1",
         "78.0"
        ],
        [
         "1",
         "2000",
         "Santana",
         "Maria, Maria",
         "4:18",
         "Rock",
         "2000-02-12",
         "2000-04-08",
         "1",
         "15.0"
        ],
        [
         "2",
         "2000",
         "Savage Garden",
         "I Knew I Loved You",
         "4:07",
         "Rock",
         "1999-10-23",
         "2000-01-29",
         "1",
         "71.0"
        ],
        [
         "3",
         "2000",
         "Madonna",
         "Music",
         "3:45",
         "Rock",
         "2000-08-12",
         "2000-09-16",
         "1",
         "41.0"
        ],
        [
         "4",
         "2000",
         "Aguilera, Christina",
         "Come On Over Baby (All I Want Is You)",
         "3:38",
         "Rock",
         "2000-08-05",
         "2000-10-14",
         "1",
         "57.0"
        ]
       ],
       "shape": {
        "columns": 9,
        "rows": 5
       }
      },
      "text/html": [
       "<div>\n",
       "<style scoped>\n",
       "    .dataframe tbody tr th:only-of-type {\n",
       "        vertical-align: middle;\n",
       "    }\n",
       "\n",
       "    .dataframe tbody tr th {\n",
       "        vertical-align: top;\n",
       "    }\n",
       "\n",
       "    .dataframe thead th {\n",
       "        text-align: right;\n",
       "    }\n",
       "</style>\n",
       "<table border=\"1\" class=\"dataframe\">\n",
       "  <thead>\n",
       "    <tr style=\"text-align: right;\">\n",
       "      <th></th>\n",
       "      <th>year</th>\n",
       "      <th>artist.inverted</th>\n",
       "      <th>track</th>\n",
       "      <th>time</th>\n",
       "      <th>genre</th>\n",
       "      <th>date.entered</th>\n",
       "      <th>date.peaked</th>\n",
       "      <th>week</th>\n",
       "      <th>rank</th>\n",
       "    </tr>\n",
       "  </thead>\n",
       "  <tbody>\n",
       "    <tr>\n",
       "      <th>0</th>\n",
       "      <td>2000</td>\n",
       "      <td>Destiny's Child</td>\n",
       "      <td>Independent Women Part I</td>\n",
       "      <td>3:38</td>\n",
       "      <td>Rock</td>\n",
       "      <td>2000-09-23</td>\n",
       "      <td>2000-11-18</td>\n",
       "      <td>1</td>\n",
       "      <td>78.0</td>\n",
       "    </tr>\n",
       "    <tr>\n",
       "      <th>1</th>\n",
       "      <td>2000</td>\n",
       "      <td>Santana</td>\n",
       "      <td>Maria, Maria</td>\n",
       "      <td>4:18</td>\n",
       "      <td>Rock</td>\n",
       "      <td>2000-02-12</td>\n",
       "      <td>2000-04-08</td>\n",
       "      <td>1</td>\n",
       "      <td>15.0</td>\n",
       "    </tr>\n",
       "    <tr>\n",
       "      <th>2</th>\n",
       "      <td>2000</td>\n",
       "      <td>Savage Garden</td>\n",
       "      <td>I Knew I Loved You</td>\n",
       "      <td>4:07</td>\n",
       "      <td>Rock</td>\n",
       "      <td>1999-10-23</td>\n",
       "      <td>2000-01-29</td>\n",
       "      <td>1</td>\n",
       "      <td>71.0</td>\n",
       "    </tr>\n",
       "    <tr>\n",
       "      <th>3</th>\n",
       "      <td>2000</td>\n",
       "      <td>Madonna</td>\n",
       "      <td>Music</td>\n",
       "      <td>3:45</td>\n",
       "      <td>Rock</td>\n",
       "      <td>2000-08-12</td>\n",
       "      <td>2000-09-16</td>\n",
       "      <td>1</td>\n",
       "      <td>41.0</td>\n",
       "    </tr>\n",
       "    <tr>\n",
       "      <th>4</th>\n",
       "      <td>2000</td>\n",
       "      <td>Aguilera, Christina</td>\n",
       "      <td>Come On Over Baby (All I Want Is You)</td>\n",
       "      <td>3:38</td>\n",
       "      <td>Rock</td>\n",
       "      <td>2000-08-05</td>\n",
       "      <td>2000-10-14</td>\n",
       "      <td>1</td>\n",
       "      <td>57.0</td>\n",
       "    </tr>\n",
       "  </tbody>\n",
       "</table>\n",
       "</div>"
      ],
      "text/plain": [
       "   year      artist.inverted                                  track  time  \\\n",
       "0  2000      Destiny's Child               Independent Women Part I  3:38   \n",
       "1  2000              Santana                           Maria, Maria  4:18   \n",
       "2  2000        Savage Garden                     I Knew I Loved You  4:07   \n",
       "3  2000              Madonna                                  Music  3:45   \n",
       "4  2000  Aguilera, Christina  Come On Over Baby (All I Want Is You)  3:38   \n",
       "\n",
       "  genre date.entered date.peaked  week  rank  \n",
       "0  Rock   2000-09-23  2000-11-18     1  78.0  \n",
       "1  Rock   2000-02-12  2000-04-08     1  15.0  \n",
       "2  Rock   1999-10-23  2000-01-29     1  71.0  \n",
       "3  Rock   2000-08-12  2000-09-16     1  41.0  \n",
       "4  Rock   2000-08-05  2000-10-14     1  57.0  "
      ]
     },
     "execution_count": 237,
     "metadata": {},
     "output_type": "execute_result"
    }
   ],
   "source": [
    "# Remove the extra text and keep only the week number\n",
    "# e.g., 'x1st.week' -> '1', 'x10th.week' -> '10'\n",
    "billboard_long['week'] = billboard_long['week'].str.extract(r'x(\\d+)[a-z]{2}\\.week')\n",
    "billboard_long['week'] = billboard_long['week'].astype(int)\n",
    "\n",
    "billboard_long.head()"
   ]
  },
  {
   "attachments": {},
   "cell_type": "markdown",
   "metadata": {},
   "source": [
    "**5. Now let's inspect the ***Week*** column in the dataframe.**"
   ]
  },
  {
   "cell_type": "code",
   "execution_count": 238,
   "metadata": {},
   "outputs": [
    {
     "name": "stdout",
     "output_type": "stream",
     "text": [
      "[ 1  2  3  4  5  6  7  8  9 10 11 12 13 14 15 16 17 18 19 20 21 22 23 24\n",
      " 25 26 27 28 29 30 31 32 33 34 35 36 37 38 39 40 41 42 43 44 45 46 47 48\n",
      " 49 50 51 52 53 54 55 56 57 58 59 60 61 62 63 64 65]\n",
      "int64\n",
      "   week\n",
      "0     1\n",
      "1     1\n",
      "2     1\n",
      "3     1\n",
      "4     1\n",
      "5     1\n",
      "6     1\n",
      "7     1\n",
      "8     1\n",
      "9     1\n"
     ]
    },
    {
     "data": {
      "application/vnd.microsoft.datawrangler.viewer.v0+json": {
       "columns": [
        {
         "name": "index",
         "rawType": "object",
         "type": "string"
        },
        {
         "name": "week",
         "rawType": "float64",
         "type": "float"
        }
       ],
       "ref": "5fc93602-9416-455d-abb9-c8af3faa165a",
       "rows": [
        [
         "count",
         "5307.0"
        ],
        [
         "mean",
         "11.470699076691163"
        ],
        [
         "std",
         "9.001300254803471"
        ],
        [
         "min",
         "1.0"
        ],
        [
         "25%",
         "5.0"
        ],
        [
         "50%",
         "10.0"
        ],
        [
         "75%",
         "16.0"
        ],
        [
         "max",
         "65.0"
        ]
       ],
       "shape": {
        "columns": 1,
        "rows": 8
       }
      },
      "text/plain": [
       "count    5307.000000\n",
       "mean       11.470699\n",
       "std         9.001300\n",
       "min         1.000000\n",
       "25%         5.000000\n",
       "50%        10.000000\n",
       "75%        16.000000\n",
       "max        65.000000\n",
       "Name: week, dtype: float64"
      ]
     },
     "execution_count": 238,
     "metadata": {},
     "output_type": "execute_result"
    }
   ],
   "source": [
    "# Look at the unique values and data type of 'week'\n",
    "print(billboard_long['week'].unique())\n",
    "print(billboard_long['week'].dtype)\n",
    "\n",
    "print(billboard_long[['week']].head(10))\n",
    "# Quick summary\n",
    "billboard_long['week'].describe()\n",
    "\n"
   ]
  },
  {
   "attachments": {},
   "cell_type": "markdown",
   "metadata": {},
   "source": [
    "Next, let's try to find the date at which the song ranked the number that is shown per row.\n",
    "\n",
    "**6. To do that let's first think of the equation that is going to get us the relevant date at which the song ranked the *rth*.**\n",
    "\n"
   ]
  },
  {
   "cell_type": "code",
   "execution_count": 239,
   "metadata": {},
   "outputs": [
    {
     "name": "stdout",
     "output_type": "stream",
     "text": [
      "  date.entered  week       date\n",
      "0   2000-09-23     1 2000-09-23\n",
      "1   2000-02-12     1 2000-02-12\n",
      "2   1999-10-23     1 1999-10-23\n",
      "3   2000-08-12     1 2000-08-12\n",
      "4   2000-08-05     1 2000-08-05\n"
     ]
    }
   ],
   "source": [
    "# Convert 'date.entered' to datetime if not already\n",
    "billboard_long['date.entered'] = pd.to_datetime(billboard_long['date.entered'])\n",
    "\n",
    "# Calculate the date for each week\n",
    "billboard_long['date'] = billboard_long['date.entered'] + pd.to_timedelta(billboard_long['week'] - 1, unit='W')\n",
    "\n",
    "print(billboard_long[['date.entered','week', 'date']].head())"
   ]
  },
  {
   "attachments": {},
   "cell_type": "markdown",
   "metadata": {},
   "source": [
    "*Timedeltas are absolute differences in times, expressed in difference units (e.g. days, hours, minutes, seconds). This method converts an argument from a recognized timedelta format / value into a Timedelta type.*\n"
   ]
  },
  {
   "attachments": {},
   "cell_type": "markdown",
   "metadata": {},
   "source": [
    "***What is the problem with the calculation above?***\n",
    "   - If the date.entered value is missing or not a valid date, the resulting date will also be NaT (not a time).\n",
    "   - Another issue: Not all weeks are exactly 7 days long (due to months/years, leap years), but for chart data, \"weeks\" are fine as 7-day units."
   ]
  },
  {
   "attachments": {},
   "cell_type": "markdown",
   "metadata": {},
   "source": [
    "**7. Let's only keep necessary columns**"
   ]
  },
  {
   "cell_type": "code",
   "execution_count": 240,
   "metadata": {},
   "outputs": [
    {
     "data": {
      "application/vnd.microsoft.datawrangler.viewer.v0+json": {
       "columns": [
        {
         "name": "index",
         "rawType": "int64",
         "type": "integer"
        },
        {
         "name": "year",
         "rawType": "int64",
         "type": "integer"
        },
        {
         "name": "artist.inverted",
         "rawType": "object",
         "type": "string"
        },
        {
         "name": "track",
         "rawType": "object",
         "type": "string"
        },
        {
         "name": "genre",
         "rawType": "object",
         "type": "string"
        },
        {
         "name": "week",
         "rawType": "int64",
         "type": "integer"
        },
        {
         "name": "date",
         "rawType": "datetime64[ns]",
         "type": "datetime"
        },
        {
         "name": "rank",
         "rawType": "float64",
         "type": "float"
        }
       ],
       "ref": "fe4fbba8-62bc-4d8e-b6e4-44fc10943b97",
       "rows": [
        [
         "0",
         "2000",
         "Destiny's Child",
         "Independent Women Part I",
         "Rock",
         "1",
         "2000-09-23 00:00:00",
         "78.0"
        ],
        [
         "1",
         "2000",
         "Santana",
         "Maria, Maria",
         "Rock",
         "1",
         "2000-02-12 00:00:00",
         "15.0"
        ],
        [
         "2",
         "2000",
         "Savage Garden",
         "I Knew I Loved You",
         "Rock",
         "1",
         "1999-10-23 00:00:00",
         "71.0"
        ],
        [
         "3",
         "2000",
         "Madonna",
         "Music",
         "Rock",
         "1",
         "2000-08-12 00:00:00",
         "41.0"
        ],
        [
         "4",
         "2000",
         "Aguilera, Christina",
         "Come On Over Baby (All I Want Is You)",
         "Rock",
         "1",
         "2000-08-05 00:00:00",
         "57.0"
        ]
       ],
       "shape": {
        "columns": 7,
        "rows": 5
       }
      },
      "text/html": [
       "<div>\n",
       "<style scoped>\n",
       "    .dataframe tbody tr th:only-of-type {\n",
       "        vertical-align: middle;\n",
       "    }\n",
       "\n",
       "    .dataframe tbody tr th {\n",
       "        vertical-align: top;\n",
       "    }\n",
       "\n",
       "    .dataframe thead th {\n",
       "        text-align: right;\n",
       "    }\n",
       "</style>\n",
       "<table border=\"1\" class=\"dataframe\">\n",
       "  <thead>\n",
       "    <tr style=\"text-align: right;\">\n",
       "      <th></th>\n",
       "      <th>year</th>\n",
       "      <th>artist.inverted</th>\n",
       "      <th>track</th>\n",
       "      <th>genre</th>\n",
       "      <th>week</th>\n",
       "      <th>date</th>\n",
       "      <th>rank</th>\n",
       "    </tr>\n",
       "  </thead>\n",
       "  <tbody>\n",
       "    <tr>\n",
       "      <th>0</th>\n",
       "      <td>2000</td>\n",
       "      <td>Destiny's Child</td>\n",
       "      <td>Independent Women Part I</td>\n",
       "      <td>Rock</td>\n",
       "      <td>1</td>\n",
       "      <td>2000-09-23</td>\n",
       "      <td>78.0</td>\n",
       "    </tr>\n",
       "    <tr>\n",
       "      <th>1</th>\n",
       "      <td>2000</td>\n",
       "      <td>Santana</td>\n",
       "      <td>Maria, Maria</td>\n",
       "      <td>Rock</td>\n",
       "      <td>1</td>\n",
       "      <td>2000-02-12</td>\n",
       "      <td>15.0</td>\n",
       "    </tr>\n",
       "    <tr>\n",
       "      <th>2</th>\n",
       "      <td>2000</td>\n",
       "      <td>Savage Garden</td>\n",
       "      <td>I Knew I Loved You</td>\n",
       "      <td>Rock</td>\n",
       "      <td>1</td>\n",
       "      <td>1999-10-23</td>\n",
       "      <td>71.0</td>\n",
       "    </tr>\n",
       "    <tr>\n",
       "      <th>3</th>\n",
       "      <td>2000</td>\n",
       "      <td>Madonna</td>\n",
       "      <td>Music</td>\n",
       "      <td>Rock</td>\n",
       "      <td>1</td>\n",
       "      <td>2000-08-12</td>\n",
       "      <td>41.0</td>\n",
       "    </tr>\n",
       "    <tr>\n",
       "      <th>4</th>\n",
       "      <td>2000</td>\n",
       "      <td>Aguilera, Christina</td>\n",
       "      <td>Come On Over Baby (All I Want Is You)</td>\n",
       "      <td>Rock</td>\n",
       "      <td>1</td>\n",
       "      <td>2000-08-05</td>\n",
       "      <td>57.0</td>\n",
       "    </tr>\n",
       "  </tbody>\n",
       "</table>\n",
       "</div>"
      ],
      "text/plain": [
       "   year      artist.inverted                                  track genre  \\\n",
       "0  2000      Destiny's Child               Independent Women Part I  Rock   \n",
       "1  2000              Santana                           Maria, Maria  Rock   \n",
       "2  2000        Savage Garden                     I Knew I Loved You  Rock   \n",
       "3  2000              Madonna                                  Music  Rock   \n",
       "4  2000  Aguilera, Christina  Come On Over Baby (All I Want Is You)  Rock   \n",
       "\n",
       "   week       date  rank  \n",
       "0     1 2000-09-23  78.0  \n",
       "1     1 2000-02-12  15.0  \n",
       "2     1 1999-10-23  71.0  \n",
       "3     1 2000-08-12  41.0  \n",
       "4     1 2000-08-05  57.0  "
      ]
     },
     "execution_count": 240,
     "metadata": {},
     "output_type": "execute_result"
    }
   ],
   "source": [
    "columns_to_keep = ['year', 'artist.inverted', 'track', 'genre', 'week', 'date', 'rank']\n",
    "billboard_final = billboard_long[columns_to_keep].copy()\n",
    "billboard_final.head()"
   ]
  },
  {
   "attachments": {},
   "cell_type": "markdown",
   "metadata": {},
   "source": [
    "**8. How to rename your columns?**"
   ]
  },
  {
   "cell_type": "code",
   "execution_count": 241,
   "metadata": {},
   "outputs": [
    {
     "data": {
      "application/vnd.microsoft.datawrangler.viewer.v0+json": {
       "columns": [
        {
         "name": "index",
         "rawType": "int64",
         "type": "integer"
        },
        {
         "name": "year",
         "rawType": "int64",
         "type": "integer"
        },
        {
         "name": "artist",
         "rawType": "object",
         "type": "string"
        },
        {
         "name": "song",
         "rawType": "object",
         "type": "string"
        },
        {
         "name": "genre",
         "rawType": "object",
         "type": "string"
        },
        {
         "name": "week",
         "rawType": "int64",
         "type": "integer"
        },
        {
         "name": "date",
         "rawType": "datetime64[ns]",
         "type": "datetime"
        },
        {
         "name": "chart_position",
         "rawType": "float64",
         "type": "float"
        }
       ],
       "ref": "f2ebb3d6-165c-4c8c-a731-16391f664fb6",
       "rows": [
        [
         "0",
         "2000",
         "Destiny's Child",
         "Independent Women Part I",
         "Rock",
         "1",
         "2000-09-23 00:00:00",
         "78.0"
        ],
        [
         "1",
         "2000",
         "Santana",
         "Maria, Maria",
         "Rock",
         "1",
         "2000-02-12 00:00:00",
         "15.0"
        ],
        [
         "2",
         "2000",
         "Savage Garden",
         "I Knew I Loved You",
         "Rock",
         "1",
         "1999-10-23 00:00:00",
         "71.0"
        ],
        [
         "3",
         "2000",
         "Madonna",
         "Music",
         "Rock",
         "1",
         "2000-08-12 00:00:00",
         "41.0"
        ],
        [
         "4",
         "2000",
         "Aguilera, Christina",
         "Come On Over Baby (All I Want Is You)",
         "Rock",
         "1",
         "2000-08-05 00:00:00",
         "57.0"
        ]
       ],
       "shape": {
        "columns": 7,
        "rows": 5
       }
      },
      "text/html": [
       "<div>\n",
       "<style scoped>\n",
       "    .dataframe tbody tr th:only-of-type {\n",
       "        vertical-align: middle;\n",
       "    }\n",
       "\n",
       "    .dataframe tbody tr th {\n",
       "        vertical-align: top;\n",
       "    }\n",
       "\n",
       "    .dataframe thead th {\n",
       "        text-align: right;\n",
       "    }\n",
       "</style>\n",
       "<table border=\"1\" class=\"dataframe\">\n",
       "  <thead>\n",
       "    <tr style=\"text-align: right;\">\n",
       "      <th></th>\n",
       "      <th>year</th>\n",
       "      <th>artist</th>\n",
       "      <th>song</th>\n",
       "      <th>genre</th>\n",
       "      <th>week</th>\n",
       "      <th>date</th>\n",
       "      <th>chart_position</th>\n",
       "    </tr>\n",
       "  </thead>\n",
       "  <tbody>\n",
       "    <tr>\n",
       "      <th>0</th>\n",
       "      <td>2000</td>\n",
       "      <td>Destiny's Child</td>\n",
       "      <td>Independent Women Part I</td>\n",
       "      <td>Rock</td>\n",
       "      <td>1</td>\n",
       "      <td>2000-09-23</td>\n",
       "      <td>78.0</td>\n",
       "    </tr>\n",
       "    <tr>\n",
       "      <th>1</th>\n",
       "      <td>2000</td>\n",
       "      <td>Santana</td>\n",
       "      <td>Maria, Maria</td>\n",
       "      <td>Rock</td>\n",
       "      <td>1</td>\n",
       "      <td>2000-02-12</td>\n",
       "      <td>15.0</td>\n",
       "    </tr>\n",
       "    <tr>\n",
       "      <th>2</th>\n",
       "      <td>2000</td>\n",
       "      <td>Savage Garden</td>\n",
       "      <td>I Knew I Loved You</td>\n",
       "      <td>Rock</td>\n",
       "      <td>1</td>\n",
       "      <td>1999-10-23</td>\n",
       "      <td>71.0</td>\n",
       "    </tr>\n",
       "    <tr>\n",
       "      <th>3</th>\n",
       "      <td>2000</td>\n",
       "      <td>Madonna</td>\n",
       "      <td>Music</td>\n",
       "      <td>Rock</td>\n",
       "      <td>1</td>\n",
       "      <td>2000-08-12</td>\n",
       "      <td>41.0</td>\n",
       "    </tr>\n",
       "    <tr>\n",
       "      <th>4</th>\n",
       "      <td>2000</td>\n",
       "      <td>Aguilera, Christina</td>\n",
       "      <td>Come On Over Baby (All I Want Is You)</td>\n",
       "      <td>Rock</td>\n",
       "      <td>1</td>\n",
       "      <td>2000-08-05</td>\n",
       "      <td>57.0</td>\n",
       "    </tr>\n",
       "  </tbody>\n",
       "</table>\n",
       "</div>"
      ],
      "text/plain": [
       "   year               artist                                   song genre  \\\n",
       "0  2000      Destiny's Child               Independent Women Part I  Rock   \n",
       "1  2000              Santana                           Maria, Maria  Rock   \n",
       "2  2000        Savage Garden                     I Knew I Loved You  Rock   \n",
       "3  2000              Madonna                                  Music  Rock   \n",
       "4  2000  Aguilera, Christina  Come On Over Baby (All I Want Is You)  Rock   \n",
       "\n",
       "   week       date  chart_position  \n",
       "0     1 2000-09-23            78.0  \n",
       "1     1 2000-02-12            15.0  \n",
       "2     1 1999-10-23            71.0  \n",
       "3     1 2000-08-12            41.0  \n",
       "4     1 2000-08-05            57.0  "
      ]
     },
     "execution_count": 241,
     "metadata": {},
     "output_type": "execute_result"
    }
   ],
   "source": [
    "# Example: Rename columns for easier access\n",
    "billboard_final = billboard_final.rename(columns={\n",
    "    'artist.inverted': 'artist',\n",
    "    'track': 'song',\n",
    "    'rank': 'chart_position'\n",
    "})\n",
    "\n",
    "billboard_final.head()"
   ]
  },
  {
   "attachments": {},
   "cell_type": "markdown",
   "metadata": {},
   "source": [
    "**Display the dataframe**"
   ]
  },
  {
   "cell_type": "code",
   "execution_count": 242,
   "metadata": {},
   "outputs": [
    {
     "data": {
      "application/vnd.microsoft.datawrangler.viewer.v0+json": {
       "columns": [
        {
         "name": "index",
         "rawType": "int64",
         "type": "integer"
        },
        {
         "name": "year",
         "rawType": "int64",
         "type": "integer"
        },
        {
         "name": "artist",
         "rawType": "object",
         "type": "string"
        },
        {
         "name": "song",
         "rawType": "object",
         "type": "string"
        },
        {
         "name": "genre",
         "rawType": "object",
         "type": "string"
        },
        {
         "name": "week",
         "rawType": "int64",
         "type": "integer"
        },
        {
         "name": "date",
         "rawType": "datetime64[ns]",
         "type": "datetime"
        },
        {
         "name": "chart_position",
         "rawType": "float64",
         "type": "float"
        }
       ],
       "ref": "b19e705e-981c-443b-a1f4-ecd6b97034fb",
       "rows": [
        [
         "0",
         "2000",
         "Destiny's Child",
         "Independent Women Part I",
         "Rock",
         "1",
         "2000-09-23 00:00:00",
         "78.0"
        ],
        [
         "1",
         "2000",
         "Santana",
         "Maria, Maria",
         "Rock",
         "1",
         "2000-02-12 00:00:00",
         "15.0"
        ],
        [
         "2",
         "2000",
         "Savage Garden",
         "I Knew I Loved You",
         "Rock",
         "1",
         "1999-10-23 00:00:00",
         "71.0"
        ],
        [
         "3",
         "2000",
         "Madonna",
         "Music",
         "Rock",
         "1",
         "2000-08-12 00:00:00",
         "41.0"
        ],
        [
         "4",
         "2000",
         "Aguilera, Christina",
         "Come On Over Baby (All I Want Is You)",
         "Rock",
         "1",
         "2000-08-05 00:00:00",
         "57.0"
        ]
       ],
       "shape": {
        "columns": 7,
        "rows": 5
       }
      },
      "text/html": [
       "<div>\n",
       "<style scoped>\n",
       "    .dataframe tbody tr th:only-of-type {\n",
       "        vertical-align: middle;\n",
       "    }\n",
       "\n",
       "    .dataframe tbody tr th {\n",
       "        vertical-align: top;\n",
       "    }\n",
       "\n",
       "    .dataframe thead th {\n",
       "        text-align: right;\n",
       "    }\n",
       "</style>\n",
       "<table border=\"1\" class=\"dataframe\">\n",
       "  <thead>\n",
       "    <tr style=\"text-align: right;\">\n",
       "      <th></th>\n",
       "      <th>year</th>\n",
       "      <th>artist</th>\n",
       "      <th>song</th>\n",
       "      <th>genre</th>\n",
       "      <th>week</th>\n",
       "      <th>date</th>\n",
       "      <th>chart_position</th>\n",
       "    </tr>\n",
       "  </thead>\n",
       "  <tbody>\n",
       "    <tr>\n",
       "      <th>0</th>\n",
       "      <td>2000</td>\n",
       "      <td>Destiny's Child</td>\n",
       "      <td>Independent Women Part I</td>\n",
       "      <td>Rock</td>\n",
       "      <td>1</td>\n",
       "      <td>2000-09-23</td>\n",
       "      <td>78.0</td>\n",
       "    </tr>\n",
       "    <tr>\n",
       "      <th>1</th>\n",
       "      <td>2000</td>\n",
       "      <td>Santana</td>\n",
       "      <td>Maria, Maria</td>\n",
       "      <td>Rock</td>\n",
       "      <td>1</td>\n",
       "      <td>2000-02-12</td>\n",
       "      <td>15.0</td>\n",
       "    </tr>\n",
       "    <tr>\n",
       "      <th>2</th>\n",
       "      <td>2000</td>\n",
       "      <td>Savage Garden</td>\n",
       "      <td>I Knew I Loved You</td>\n",
       "      <td>Rock</td>\n",
       "      <td>1</td>\n",
       "      <td>1999-10-23</td>\n",
       "      <td>71.0</td>\n",
       "    </tr>\n",
       "    <tr>\n",
       "      <th>3</th>\n",
       "      <td>2000</td>\n",
       "      <td>Madonna</td>\n",
       "      <td>Music</td>\n",
       "      <td>Rock</td>\n",
       "      <td>1</td>\n",
       "      <td>2000-08-12</td>\n",
       "      <td>41.0</td>\n",
       "    </tr>\n",
       "    <tr>\n",
       "      <th>4</th>\n",
       "      <td>2000</td>\n",
       "      <td>Aguilera, Christina</td>\n",
       "      <td>Come On Over Baby (All I Want Is You)</td>\n",
       "      <td>Rock</td>\n",
       "      <td>1</td>\n",
       "      <td>2000-08-05</td>\n",
       "      <td>57.0</td>\n",
       "    </tr>\n",
       "  </tbody>\n",
       "</table>\n",
       "</div>"
      ],
      "text/plain": [
       "   year               artist                                   song genre  \\\n",
       "0  2000      Destiny's Child               Independent Women Part I  Rock   \n",
       "1  2000              Santana                           Maria, Maria  Rock   \n",
       "2  2000        Savage Garden                     I Knew I Loved You  Rock   \n",
       "3  2000              Madonna                                  Music  Rock   \n",
       "4  2000  Aguilera, Christina  Come On Over Baby (All I Want Is You)  Rock   \n",
       "\n",
       "   week       date  chart_position  \n",
       "0     1 2000-09-23            78.0  \n",
       "1     1 2000-02-12            15.0  \n",
       "2     1 1999-10-23            71.0  \n",
       "3     1 2000-08-12            41.0  \n",
       "4     1 2000-08-05            57.0  "
      ]
     },
     "execution_count": 242,
     "metadata": {},
     "output_type": "execute_result"
    }
   ],
   "source": [
    "billboard_final.head()"
   ]
  },
  {
   "attachments": {},
   "cell_type": "markdown",
   "metadata": {},
   "source": [
    "In the above dataframe, there are some *NaN* values. What are we going to do? <br/>\n",
    "\n",
    "**9. Apply quick data cleaning and then observe the dataset**"
   ]
  },
  {
   "cell_type": "code",
   "execution_count": 243,
   "metadata": {},
   "outputs": [
    {
     "name": "stdout",
     "output_type": "stream",
     "text": [
      "   year               artist                                   song genre  \\\n",
      "0  2000      Destiny's Child               Independent Women Part I  Rock   \n",
      "1  2000              Santana                           Maria, Maria  Rock   \n",
      "2  2000        Savage Garden                     I Knew I Loved You  Rock   \n",
      "3  2000              Madonna                                  Music  Rock   \n",
      "4  2000  Aguilera, Christina  Come On Over Baby (All I Want Is You)  Rock   \n",
      "\n",
      "   week       date  chart_position  \n",
      "0     1 2000-09-23            78.0  \n",
      "1     1 2000-02-12            15.0  \n",
      "2     1 1999-10-23            71.0  \n",
      "3     1 2000-08-12            41.0  \n",
      "4     1 2000-08-05            57.0  \n",
      "<class 'pandas.core.frame.DataFrame'>\n",
      "Index: 5307 entries, 0 to 20334\n",
      "Data columns (total 7 columns):\n",
      " #   Column          Non-Null Count  Dtype         \n",
      "---  ------          --------------  -----         \n",
      " 0   year            5307 non-null   int64         \n",
      " 1   artist          5307 non-null   object        \n",
      " 2   song            5307 non-null   object        \n",
      " 3   genre           5307 non-null   object        \n",
      " 4   week            5307 non-null   int64         \n",
      " 5   date            5307 non-null   datetime64[ns]\n",
      " 6   chart_position  5307 non-null   float64       \n",
      "dtypes: datetime64[ns](1), float64(1), int64(2), object(3)\n",
      "memory usage: 331.7+ KB\n",
      "None\n"
     ]
    }
   ],
   "source": [
    "# Drop rows with any NaN values\n",
    "billboard_clean = billboard_final.dropna()\n",
    "\n",
    "# Check the cleaned dataframe\n",
    "print(billboard_clean.head())\n",
    "print(billboard_clean.info())\n"
   ]
  },
  {
   "attachments": {},
   "cell_type": "markdown",
   "metadata": {},
   "source": [
    "---\n",
    "\n",
    "## **Data Cleaning**\n",
    "\n",
    "Data cleaning involves removing unwanted characters, imputing, or dropping missing values.\n",
    "\n",
    "The decision is based on the dataset you have, and the information you can extract from the other columns.\n",
    "\n",
    "\n",
    "Examples of data cleaning include cleaning:\n",
    "\n",
    "1.   **Missing Data**\n",
    "2.   **Irregular Data** (Outliers)\n",
    "3.   **Unnecessary Data** — Repetitive Data, Duplicates and more\n",
    "4.   **Inconsistent Data** — Capitalization, Addresses and more"
   ]
  },
  {
   "attachments": {},
   "cell_type": "markdown",
   "metadata": {},
   "source": [
    "### **Cars Data Set**"
   ]
  },
  {
   "attachments": {},
   "cell_type": "markdown",
   "metadata": {},
   "source": [
    "Start by reading the dataset related to car models: ./CSVs/cars.csv"
   ]
  },
  {
   "cell_type": "code",
   "execution_count": 244,
   "metadata": {},
   "outputs": [
    {
     "data": {
      "application/vnd.microsoft.datawrangler.viewer.v0+json": {
       "columns": [
        {
         "name": "index",
         "rawType": "int64",
         "type": "integer"
        },
        {
         "name": "Car",
         "rawType": "object",
         "type": "string"
        },
        {
         "name": "MPG",
         "rawType": "object",
         "type": "unknown"
        },
        {
         "name": "Cylinders",
         "rawType": "object",
         "type": "string"
        },
        {
         "name": "Displacement",
         "rawType": "object",
         "type": "unknown"
        },
        {
         "name": "Horsepower",
         "rawType": "object",
         "type": "unknown"
        },
        {
         "name": "Weight",
         "rawType": "object",
         "type": "unknown"
        },
        {
         "name": "Acceleration",
         "rawType": "object",
         "type": "string"
        },
        {
         "name": "Model",
         "rawType": "object",
         "type": "string"
        },
        {
         "name": "Origin",
         "rawType": "object",
         "type": "string"
        }
       ],
       "ref": "75c3967a-3da8-4362-a9b6-6eda504771fd",
       "rows": [
        [
         "0",
         "STRING",
         "DOUBLE",
         "INT",
         "DOUBLE",
         "DOUBLE",
         "DOUBLE",
         "DOUBLE",
         "INT",
         "CAT"
        ],
        [
         "1",
         "Chevrolet Chevelle Malibu",
         null,
         "8",
         "307.0",
         "130.0",
         "3504.",
         "12.0",
         "70",
         "US"
        ],
        [
         "2",
         "Buick Skylark 320",
         "15.0",
         "8",
         "350.0",
         null,
         "3693.",
         "11.5",
         "70",
         "US"
        ],
        [
         "3",
         "Plymouth Satellite",
         null,
         "8",
         "318.0",
         "150.0",
         "3436.",
         "11.0",
         "70",
         "US"
        ],
        [
         "4",
         "AMC Rebel SST",
         "16.0",
         "8",
         null,
         "150.0",
         null,
         "12.0",
         "70",
         "US"
        ],
        [
         "5",
         "Ford Torino",
         "17.0",
         "8",
         "302.0",
         "140.0",
         "3449.",
         "10.5",
         "70",
         "US"
        ],
        [
         "6",
         "Ford Galaxie 500",
         null,
         "8",
         "429.0",
         null,
         "4341.",
         "10.0",
         "70",
         "US"
        ],
        [
         "7",
         "Chevrolet Impala",
         "14.0",
         "8",
         "454.0",
         "220.0",
         "4354.",
         "9.0",
         "70",
         "US"
        ],
        [
         "8",
         "Plymouth Fury iii",
         "14.0",
         "8",
         "440.0",
         "215.0",
         "4312.",
         "8.5",
         "70",
         "US"
        ],
        [
         "9",
         "Pontiac Catalina",
         "14.0",
         "8",
         "455.0",
         "225.0",
         "4425.",
         "10.0",
         "70",
         "US"
        ],
        [
         "10",
         "AMC Ambassador DPL",
         "15.0",
         "8",
         "390.0",
         "190.0",
         "3850.",
         "8.5",
         "70",
         "US"
        ],
        [
         "11",
         "Citroen DS-21 Pallas",
         "0",
         "4",
         "133.0",
         "115.0",
         "3090.",
         "17.5",
         "70",
         "Europe"
        ],
        [
         "12",
         "Chevrolet Chevelle Concours (sw)",
         "0",
         "8",
         "350.0",
         "165.0",
         "4142.",
         "11.5",
         "70",
         "US"
        ],
        [
         "13",
         "Ford Torino (sw)",
         "0",
         "8",
         "351.0",
         "153.0",
         "4034.",
         "11.0",
         "70",
         "US"
        ],
        [
         "14",
         "Plymouth Satellite (sw)",
         "0",
         "8",
         "383.0",
         "175.0",
         "4166.",
         "10.5",
         "70",
         "US"
        ],
        [
         "15",
         "AMC Rebel SST (sw)",
         "0",
         "8",
         "360.0",
         "175.0",
         "3850.",
         "11.0",
         "70",
         "US"
        ],
        [
         "16",
         "Dodge Challenger SE",
         "15.0",
         "8",
         "383.0",
         "170.0",
         "3563.",
         "10.0",
         "70",
         "US"
        ],
        [
         "17",
         "Plymouth 'Cuda 340",
         "14.0",
         "8",
         "340.0",
         "160.0",
         "3609.",
         "8.0",
         "70",
         "US"
        ],
        [
         "18",
         "Ford Mustang Boss 302",
         "0",
         "8",
         "302.0",
         "140.0",
         "3353.",
         "8.0",
         "70",
         "US"
        ],
        [
         "19",
         "Chevrolet Monte Carlo",
         "15.0",
         "8",
         "400.0",
         "150.0",
         "3761.",
         "9.5",
         "70",
         "US"
        ],
        [
         "20",
         "Buick Estate Wagon (sw)",
         "14.0",
         "8",
         "455.0",
         "225.0",
         "3086.",
         "10.0",
         "70",
         "US"
        ],
        [
         "21",
         "Toyota Corolla Mark ii",
         "24.0",
         "4",
         "113.0",
         "95.00",
         "2372.",
         "15.0",
         "70",
         "Japan"
        ],
        [
         "22",
         "Plymouth Duster",
         "22.0",
         "6",
         "198.0",
         "95.00",
         "2833.",
         "15.5",
         "70",
         "US"
        ],
        [
         "23",
         "AMC Hornet",
         "18.0",
         "6",
         "199.0",
         "97.00",
         "2774.",
         "15.5",
         "70",
         "US"
        ],
        [
         "24",
         "Ford Maverick",
         "21.0",
         "6",
         "200.0",
         "85.00",
         "2587.",
         "16.0",
         "70",
         "US"
        ],
        [
         "25",
         "Datsun PL510",
         "27.0",
         "4",
         "97.00",
         "88.00",
         "2130.",
         "14.5",
         "70",
         "Japan"
        ],
        [
         "26",
         "Volkswagen 1131 Deluxe Sedan",
         "26.0",
         "4",
         "97.00",
         "46.00",
         "1835.",
         "20.5",
         "70",
         "Europe"
        ],
        [
         "27",
         "Peugeot 504",
         "25.0",
         "4",
         "110.0",
         "87.00",
         "2672.",
         "17.5",
         "70",
         "Europe"
        ],
        [
         "28",
         "Audi 100 LS",
         "24.0",
         "4",
         "107.0",
         "90.00",
         "2430.",
         "14.5",
         "70",
         "Europe"
        ],
        [
         "29",
         "Saab 99e",
         "25.0",
         "4",
         "104.0",
         "95.00",
         "2375.",
         "17.5",
         "70",
         "Europe"
        ],
        [
         "30",
         "BMW 2002",
         "26.0",
         "4",
         "121.0",
         "113.0",
         "2234.",
         "12.5",
         "70",
         "Europe"
        ],
        [
         "31",
         "AMC Gremlin",
         "21.0",
         "6",
         "199.0",
         "90.00",
         "2648.",
         "15.0",
         "70",
         "US"
        ],
        [
         "32",
         "Ford F250",
         "10.0",
         "8",
         "360.0",
         "215.0",
         "4615.",
         "14.0",
         "70",
         "US"
        ],
        [
         "33",
         "Chevy C20",
         "10.0",
         "8",
         "307.0",
         "200.0",
         "4376.",
         "15.0",
         "70",
         "US"
        ],
        [
         "34",
         "Dodge D200",
         "11.0",
         "8",
         "318.0",
         "210.0",
         "4382.",
         "13.5",
         "70",
         "US"
        ],
        [
         "35",
         "Hi 1200D",
         "9.0",
         "8",
         "304.0",
         "193.0",
         "4732.",
         "18.5",
         "70",
         "US"
        ],
        [
         "36",
         "Datsun PL510",
         "27.0",
         "4",
         "97.00",
         "88.00",
         "2130.",
         "14.5",
         "71",
         "Japan"
        ],
        [
         "37",
         "Chevrolet Vega 2300",
         "28.0",
         "4",
         "140.0",
         "90.00",
         "2264.",
         "15.5",
         "71",
         "US"
        ],
        [
         "38",
         "Toyota Corolla",
         "25.0",
         "4",
         "113.0",
         "95.00",
         "2228.",
         "14.0",
         "71",
         "Japan"
        ],
        [
         "39",
         "Ford Pinto",
         "25.0",
         "4",
         "98.00",
         "0",
         "2046.",
         "19.0",
         "71",
         "US"
        ],
        [
         "40",
         "Volkswagen Super Beetle 117",
         "0",
         "4",
         "97.00",
         "48.00",
         "1978.",
         "20.0",
         "71",
         "Europe"
        ],
        [
         "41",
         "AMC Gremlin",
         "19.0",
         "6",
         "232.0",
         "100.0",
         "2634.",
         "13.0",
         "71",
         "US"
        ],
        [
         "42",
         "Plymouth Satellite Custom",
         "16.0",
         "6",
         "225.0",
         "105.0",
         "3439.",
         "15.5",
         "71",
         "US"
        ],
        [
         "43",
         "Chevrolet Chevelle Malibu",
         "17.0",
         "6",
         "250.0",
         "100.0",
         "3329.",
         "15.5",
         "71",
         "US"
        ],
        [
         "44",
         "Ford Torino 500",
         "19.0",
         "6",
         "250.0",
         "88.00",
         "3302.",
         "15.5",
         "71",
         "US"
        ],
        [
         "45",
         "AMC Matador",
         "18.0",
         "6",
         "232.0",
         "100.0",
         "3288.",
         "15.5",
         "71",
         "US"
        ],
        [
         "46",
         "Chevrolet Impala",
         "14.0",
         "8",
         "350.0",
         "165.0",
         "4209.",
         "12.0",
         "71",
         "US"
        ],
        [
         "47",
         "Pontiac Catalina Brougham",
         "14.0",
         "8",
         "400.0",
         "175.0",
         "4464.",
         "11.5",
         "71",
         "US"
        ],
        [
         "48",
         "Ford Galaxie 500",
         "14.0",
         "8",
         "351.0",
         "153.0",
         "4154.",
         "13.5",
         "71",
         "US"
        ],
        [
         "49",
         "Plymouth Fury iii",
         "14.0",
         "8",
         "318.0",
         "150.0",
         "4096.",
         "13.0",
         "71",
         "US"
        ]
       ],
       "shape": {
        "columns": 9,
        "rows": 100
       }
      },
      "text/html": [
       "<div>\n",
       "<style scoped>\n",
       "    .dataframe tbody tr th:only-of-type {\n",
       "        vertical-align: middle;\n",
       "    }\n",
       "\n",
       "    .dataframe tbody tr th {\n",
       "        vertical-align: top;\n",
       "    }\n",
       "\n",
       "    .dataframe thead th {\n",
       "        text-align: right;\n",
       "    }\n",
       "</style>\n",
       "<table border=\"1\" class=\"dataframe\">\n",
       "  <thead>\n",
       "    <tr style=\"text-align: right;\">\n",
       "      <th></th>\n",
       "      <th>Car</th>\n",
       "      <th>MPG</th>\n",
       "      <th>Cylinders</th>\n",
       "      <th>Displacement</th>\n",
       "      <th>Horsepower</th>\n",
       "      <th>Weight</th>\n",
       "      <th>Acceleration</th>\n",
       "      <th>Model</th>\n",
       "      <th>Origin</th>\n",
       "    </tr>\n",
       "  </thead>\n",
       "  <tbody>\n",
       "    <tr>\n",
       "      <th>0</th>\n",
       "      <td>STRING</td>\n",
       "      <td>DOUBLE</td>\n",
       "      <td>INT</td>\n",
       "      <td>DOUBLE</td>\n",
       "      <td>DOUBLE</td>\n",
       "      <td>DOUBLE</td>\n",
       "      <td>DOUBLE</td>\n",
       "      <td>INT</td>\n",
       "      <td>CAT</td>\n",
       "    </tr>\n",
       "    <tr>\n",
       "      <th>1</th>\n",
       "      <td>Chevrolet Chevelle Malibu</td>\n",
       "      <td>NaN</td>\n",
       "      <td>8</td>\n",
       "      <td>307.0</td>\n",
       "      <td>130.0</td>\n",
       "      <td>3504.</td>\n",
       "      <td>12.0</td>\n",
       "      <td>70</td>\n",
       "      <td>US</td>\n",
       "    </tr>\n",
       "    <tr>\n",
       "      <th>2</th>\n",
       "      <td>Buick Skylark 320</td>\n",
       "      <td>15.0</td>\n",
       "      <td>8</td>\n",
       "      <td>350.0</td>\n",
       "      <td>NaN</td>\n",
       "      <td>3693.</td>\n",
       "      <td>11.5</td>\n",
       "      <td>70</td>\n",
       "      <td>US</td>\n",
       "    </tr>\n",
       "    <tr>\n",
       "      <th>3</th>\n",
       "      <td>Plymouth Satellite</td>\n",
       "      <td>NaN</td>\n",
       "      <td>8</td>\n",
       "      <td>318.0</td>\n",
       "      <td>150.0</td>\n",
       "      <td>3436.</td>\n",
       "      <td>11.0</td>\n",
       "      <td>70</td>\n",
       "      <td>US</td>\n",
       "    </tr>\n",
       "    <tr>\n",
       "      <th>4</th>\n",
       "      <td>AMC Rebel SST</td>\n",
       "      <td>16.0</td>\n",
       "      <td>8</td>\n",
       "      <td>NaN</td>\n",
       "      <td>150.0</td>\n",
       "      <td>NaN</td>\n",
       "      <td>12.0</td>\n",
       "      <td>70</td>\n",
       "      <td>US</td>\n",
       "    </tr>\n",
       "    <tr>\n",
       "      <th>...</th>\n",
       "      <td>...</td>\n",
       "      <td>...</td>\n",
       "      <td>...</td>\n",
       "      <td>...</td>\n",
       "      <td>...</td>\n",
       "      <td>...</td>\n",
       "      <td>...</td>\n",
       "      <td>...</td>\n",
       "      <td>...</td>\n",
       "    </tr>\n",
       "    <tr>\n",
       "      <th>95</th>\n",
       "      <td>Chevrolet Malibu</td>\n",
       "      <td>13.0</td>\n",
       "      <td>8</td>\n",
       "      <td>350.0</td>\n",
       "      <td>145.0</td>\n",
       "      <td>3988.</td>\n",
       "      <td>13.0</td>\n",
       "      <td>73</td>\n",
       "      <td>US</td>\n",
       "    </tr>\n",
       "    <tr>\n",
       "      <th>96</th>\n",
       "      <td>Ford Gran Torino</td>\n",
       "      <td>14.0</td>\n",
       "      <td>8</td>\n",
       "      <td>302.0</td>\n",
       "      <td>137.0</td>\n",
       "      <td>4042.</td>\n",
       "      <td>14.5</td>\n",
       "      <td>73</td>\n",
       "      <td>US</td>\n",
       "    </tr>\n",
       "    <tr>\n",
       "      <th>97</th>\n",
       "      <td>Dodge Coronet Custom</td>\n",
       "      <td>15.0</td>\n",
       "      <td>8</td>\n",
       "      <td>318.0</td>\n",
       "      <td>150.0</td>\n",
       "      <td>3777.</td>\n",
       "      <td>12.5</td>\n",
       "      <td>73</td>\n",
       "      <td>US</td>\n",
       "    </tr>\n",
       "    <tr>\n",
       "      <th>98</th>\n",
       "      <td>Mercury Marquis Brougham</td>\n",
       "      <td>12.0</td>\n",
       "      <td>8</td>\n",
       "      <td>429.0</td>\n",
       "      <td>198.0</td>\n",
       "      <td>4952.</td>\n",
       "      <td>11.5</td>\n",
       "      <td>73</td>\n",
       "      <td>US</td>\n",
       "    </tr>\n",
       "    <tr>\n",
       "      <th>99</th>\n",
       "      <td>Chevrolet Caprice Classic</td>\n",
       "      <td>13.0</td>\n",
       "      <td>8</td>\n",
       "      <td>400.0</td>\n",
       "      <td>150.0</td>\n",
       "      <td>4464.</td>\n",
       "      <td>12.0</td>\n",
       "      <td>73</td>\n",
       "      <td>US</td>\n",
       "    </tr>\n",
       "  </tbody>\n",
       "</table>\n",
       "<p>100 rows × 9 columns</p>\n",
       "</div>"
      ],
      "text/plain": [
       "                          Car     MPG Cylinders Displacement Horsepower  \\\n",
       "0                      STRING  DOUBLE       INT       DOUBLE     DOUBLE   \n",
       "1   Chevrolet Chevelle Malibu     NaN         8        307.0      130.0   \n",
       "2           Buick Skylark 320    15.0         8        350.0        NaN   \n",
       "3          Plymouth Satellite     NaN         8        318.0      150.0   \n",
       "4               AMC Rebel SST    16.0         8          NaN      150.0   \n",
       "..                        ...     ...       ...          ...        ...   \n",
       "95           Chevrolet Malibu    13.0         8        350.0      145.0   \n",
       "96           Ford Gran Torino    14.0         8        302.0      137.0   \n",
       "97       Dodge Coronet Custom    15.0         8        318.0      150.0   \n",
       "98   Mercury Marquis Brougham    12.0         8        429.0      198.0   \n",
       "99  Chevrolet Caprice Classic    13.0         8        400.0      150.0   \n",
       "\n",
       "    Weight Acceleration Model Origin  \n",
       "0   DOUBLE       DOUBLE   INT    CAT  \n",
       "1    3504.         12.0    70     US  \n",
       "2    3693.         11.5    70     US  \n",
       "3    3436.         11.0    70     US  \n",
       "4      NaN         12.0    70     US  \n",
       "..     ...          ...   ...    ...  \n",
       "95   3988.         13.0    73     US  \n",
       "96   4042.         14.5    73     US  \n",
       "97   3777.         12.5    73     US  \n",
       "98   4952.         11.5    73     US  \n",
       "99   4464.         12.0    73     US  \n",
       "\n",
       "[100 rows x 9 columns]"
      ]
     },
     "execution_count": 244,
     "metadata": {},
     "output_type": "execute_result"
    }
   ],
   "source": [
    "import pandas as pd\n",
    "\n",
    "# Read the CSV with 'unicode_escape' encoding to avoid character issues\n",
    "cars_raw = pd.read_csv('./Data/cars.csv', sep=';')\n",
    "\n",
    "# Show the first few rows to inspect the data\n",
    "cars_raw.head(100)\n"
   ]
  },
  {
   "attachments": {},
   "cell_type": "markdown",
   "metadata": {},
   "source": [
    "First Row seems to be the datatype, we need to remove it"
   ]
  },
  {
   "cell_type": "code",
   "execution_count": 245,
   "metadata": {},
   "outputs": [
    {
     "data": {
      "application/vnd.microsoft.datawrangler.viewer.v0+json": {
       "columns": [
        {
         "name": "index",
         "rawType": "int64",
         "type": "integer"
        },
        {
         "name": "Car",
         "rawType": "object",
         "type": "string"
        },
        {
         "name": "MPG",
         "rawType": "object",
         "type": "unknown"
        },
        {
         "name": "Cylinders",
         "rawType": "object",
         "type": "string"
        },
        {
         "name": "Displacement",
         "rawType": "object",
         "type": "unknown"
        },
        {
         "name": "Horsepower",
         "rawType": "object",
         "type": "unknown"
        },
        {
         "name": "Weight",
         "rawType": "object",
         "type": "unknown"
        },
        {
         "name": "Acceleration",
         "rawType": "object",
         "type": "string"
        },
        {
         "name": "Model",
         "rawType": "object",
         "type": "string"
        },
        {
         "name": "Origin",
         "rawType": "object",
         "type": "string"
        }
       ],
       "ref": "1422cadd-309b-4ad8-9b62-68c58cea64fd",
       "rows": [
        [
         "0",
         "Chevrolet Chevelle Malibu",
         null,
         "8",
         "307.0",
         "130.0",
         "3504.",
         "12.0",
         "70",
         "US"
        ],
        [
         "1",
         "Buick Skylark 320",
         "15.0",
         "8",
         "350.0",
         null,
         "3693.",
         "11.5",
         "70",
         "US"
        ],
        [
         "2",
         "Plymouth Satellite",
         null,
         "8",
         "318.0",
         "150.0",
         "3436.",
         "11.0",
         "70",
         "US"
        ],
        [
         "3",
         "AMC Rebel SST",
         "16.0",
         "8",
         null,
         "150.0",
         null,
         "12.0",
         "70",
         "US"
        ],
        [
         "4",
         "Ford Torino",
         "17.0",
         "8",
         "302.0",
         "140.0",
         "3449.",
         "10.5",
         "70",
         "US"
        ]
       ],
       "shape": {
        "columns": 9,
        "rows": 5
       }
      },
      "text/html": [
       "<div>\n",
       "<style scoped>\n",
       "    .dataframe tbody tr th:only-of-type {\n",
       "        vertical-align: middle;\n",
       "    }\n",
       "\n",
       "    .dataframe tbody tr th {\n",
       "        vertical-align: top;\n",
       "    }\n",
       "\n",
       "    .dataframe thead th {\n",
       "        text-align: right;\n",
       "    }\n",
       "</style>\n",
       "<table border=\"1\" class=\"dataframe\">\n",
       "  <thead>\n",
       "    <tr style=\"text-align: right;\">\n",
       "      <th></th>\n",
       "      <th>Car</th>\n",
       "      <th>MPG</th>\n",
       "      <th>Cylinders</th>\n",
       "      <th>Displacement</th>\n",
       "      <th>Horsepower</th>\n",
       "      <th>Weight</th>\n",
       "      <th>Acceleration</th>\n",
       "      <th>Model</th>\n",
       "      <th>Origin</th>\n",
       "    </tr>\n",
       "  </thead>\n",
       "  <tbody>\n",
       "    <tr>\n",
       "      <th>0</th>\n",
       "      <td>Chevrolet Chevelle Malibu</td>\n",
       "      <td>NaN</td>\n",
       "      <td>8</td>\n",
       "      <td>307.0</td>\n",
       "      <td>130.0</td>\n",
       "      <td>3504.</td>\n",
       "      <td>12.0</td>\n",
       "      <td>70</td>\n",
       "      <td>US</td>\n",
       "    </tr>\n",
       "    <tr>\n",
       "      <th>1</th>\n",
       "      <td>Buick Skylark 320</td>\n",
       "      <td>15.0</td>\n",
       "      <td>8</td>\n",
       "      <td>350.0</td>\n",
       "      <td>NaN</td>\n",
       "      <td>3693.</td>\n",
       "      <td>11.5</td>\n",
       "      <td>70</td>\n",
       "      <td>US</td>\n",
       "    </tr>\n",
       "    <tr>\n",
       "      <th>2</th>\n",
       "      <td>Plymouth Satellite</td>\n",
       "      <td>NaN</td>\n",
       "      <td>8</td>\n",
       "      <td>318.0</td>\n",
       "      <td>150.0</td>\n",
       "      <td>3436.</td>\n",
       "      <td>11.0</td>\n",
       "      <td>70</td>\n",
       "      <td>US</td>\n",
       "    </tr>\n",
       "    <tr>\n",
       "      <th>3</th>\n",
       "      <td>AMC Rebel SST</td>\n",
       "      <td>16.0</td>\n",
       "      <td>8</td>\n",
       "      <td>NaN</td>\n",
       "      <td>150.0</td>\n",
       "      <td>NaN</td>\n",
       "      <td>12.0</td>\n",
       "      <td>70</td>\n",
       "      <td>US</td>\n",
       "    </tr>\n",
       "    <tr>\n",
       "      <th>4</th>\n",
       "      <td>Ford Torino</td>\n",
       "      <td>17.0</td>\n",
       "      <td>8</td>\n",
       "      <td>302.0</td>\n",
       "      <td>140.0</td>\n",
       "      <td>3449.</td>\n",
       "      <td>10.5</td>\n",
       "      <td>70</td>\n",
       "      <td>US</td>\n",
       "    </tr>\n",
       "  </tbody>\n",
       "</table>\n",
       "</div>"
      ],
      "text/plain": [
       "                         Car   MPG Cylinders Displacement Horsepower Weight  \\\n",
       "0  Chevrolet Chevelle Malibu   NaN         8        307.0      130.0  3504.   \n",
       "1          Buick Skylark 320  15.0         8        350.0        NaN  3693.   \n",
       "2         Plymouth Satellite   NaN         8        318.0      150.0  3436.   \n",
       "3              AMC Rebel SST  16.0         8          NaN      150.0    NaN   \n",
       "4                Ford Torino  17.0         8        302.0      140.0  3449.   \n",
       "\n",
       "  Acceleration Model Origin  \n",
       "0         12.0    70     US  \n",
       "1         11.5    70     US  \n",
       "2         11.0    70     US  \n",
       "3         12.0    70     US  \n",
       "4         10.5    70     US  "
      ]
     },
     "execution_count": 245,
     "metadata": {},
     "output_type": "execute_result"
    }
   ],
   "source": [
    "# Most likely, you want to drop index 0:\n",
    "cars_data = cars_raw.drop(index=0).reset_index(drop=True)\n",
    "\n",
    "# If you need to split the column by semicolon, do it here:\n",
    "if cars_data.shape[1] == 1:\n",
    "    cars = cars_data.iloc[:, 0].str.split(';', expand=True)\n",
    "    cars.columns = ['Car', 'MPG', 'Cylinders', 'Displacement', 'Horsepower', 'Weight', 'Acceleration', 'Model', 'Origin']\n",
    "else:\n",
    "    cars = cars_data\n",
    "\n",
    "# Show the first few rows to confirm\n",
    "cars.head()"
   ]
  },
  {
   "attachments": {},
   "cell_type": "markdown",
   "metadata": {},
   "source": [
    "Let's observe the columns with null values.  Either by using the `isnull().sum()` function "
   ]
  },
  {
   "cell_type": "code",
   "execution_count": 246,
   "metadata": {},
   "outputs": [
    {
     "data": {
      "application/vnd.microsoft.datawrangler.viewer.v0+json": {
       "columns": [
        {
         "name": "index",
         "rawType": "object",
         "type": "string"
        },
        {
         "name": "0",
         "rawType": "int64",
         "type": "integer"
        }
       ],
       "ref": "65ffb772-f507-4693-b713-a2ef78d8a523",
       "rows": [
        [
         "Car",
         "0"
        ],
        [
         "MPG",
         "3"
        ],
        [
         "Cylinders",
         "0"
        ],
        [
         "Displacement",
         "1"
        ],
        [
         "Horsepower",
         "2"
        ],
        [
         "Weight",
         "1"
        ],
        [
         "Acceleration",
         "0"
        ],
        [
         "Model",
         "0"
        ],
        [
         "Origin",
         "0"
        ]
       ],
       "shape": {
        "columns": 1,
        "rows": 9
       }
      },
      "text/plain": [
       "Car             0\n",
       "MPG             3\n",
       "Cylinders       0\n",
       "Displacement    1\n",
       "Horsepower      2\n",
       "Weight          1\n",
       "Acceleration    0\n",
       "Model           0\n",
       "Origin          0\n",
       "dtype: int64"
      ]
     },
     "execution_count": 246,
     "metadata": {},
     "output_type": "execute_result"
    }
   ],
   "source": [
    "# Check for missing values in each column\n",
    "cars.isnull().sum()"
   ]
  },
  {
   "attachments": {},
   "cell_type": "markdown",
   "metadata": {},
   "source": [
    "There aren't many missing values. Let's take a glimpse at the percentage of the missing values:\n",
    "\n",
    "**HINT:** We'll need `Numpy` for the below task."
   ]
  },
  {
   "cell_type": "code",
   "execution_count": 247,
   "metadata": {},
   "outputs": [
    {
     "data": {
      "application/vnd.microsoft.datawrangler.viewer.v0+json": {
       "columns": [
        {
         "name": "index",
         "rawType": "object",
         "type": "string"
        },
        {
         "name": "0",
         "rawType": "float64",
         "type": "float"
        }
       ],
       "ref": "3e4a45e5-7062-4f15-8001-0c045728ae14",
       "rows": [
        [
         "Car",
         "0.0"
        ],
        [
         "MPG",
         "0.74"
        ],
        [
         "Cylinders",
         "0.0"
        ],
        [
         "Displacement",
         "0.25"
        ],
        [
         "Horsepower",
         "0.49"
        ],
        [
         "Weight",
         "0.25"
        ],
        [
         "Acceleration",
         "0.0"
        ],
        [
         "Model",
         "0.0"
        ],
        [
         "Origin",
         "0.0"
        ]
       ],
       "shape": {
        "columns": 1,
        "rows": 9
       }
      },
      "text/plain": [
       "Car             0.00\n",
       "MPG             0.74\n",
       "Cylinders       0.00\n",
       "Displacement    0.25\n",
       "Horsepower      0.49\n",
       "Weight          0.25\n",
       "Acceleration    0.00\n",
       "Model           0.00\n",
       "Origin          0.00\n",
       "dtype: float64"
      ]
     },
     "execution_count": 247,
     "metadata": {},
     "output_type": "execute_result"
    }
   ],
   "source": [
    "import numpy as np\n",
    "\n",
    "# Calculate the percentage of missing values per column\n",
    "missing_percent = ((cars.isnull().sum() / len(cars)) * 100).round(2)\n",
    "\n",
    "missing_percent\n"
   ]
  },
  {
   "attachments": {},
   "cell_type": "markdown",
   "metadata": {},
   "source": [
    "Around *0.19%* of the values are missing, which isn't a lot. Therefore, we might go with the option of dropping all the rows with null values."
   ]
  },
  {
   "cell_type": "code",
   "execution_count": 248,
   "metadata": {},
   "outputs": [
    {
     "name": "stdout",
     "output_type": "stream",
     "text": [
      "Shape after dropping rows with nulls: (401, 9)\n"
     ]
    },
    {
     "data": {
      "application/vnd.microsoft.datawrangler.viewer.v0+json": {
       "columns": [
        {
         "name": "index",
         "rawType": "int64",
         "type": "integer"
        },
        {
         "name": "Car",
         "rawType": "object",
         "type": "string"
        },
        {
         "name": "MPG",
         "rawType": "object",
         "type": "string"
        },
        {
         "name": "Cylinders",
         "rawType": "object",
         "type": "string"
        },
        {
         "name": "Displacement",
         "rawType": "object",
         "type": "string"
        },
        {
         "name": "Horsepower",
         "rawType": "object",
         "type": "string"
        },
        {
         "name": "Weight",
         "rawType": "object",
         "type": "string"
        },
        {
         "name": "Acceleration",
         "rawType": "object",
         "type": "string"
        },
        {
         "name": "Model",
         "rawType": "object",
         "type": "string"
        },
        {
         "name": "Origin",
         "rawType": "object",
         "type": "string"
        }
       ],
       "ref": "beab0125-af06-44ed-9147-25390e2cbc2b",
       "rows": [
        [
         "4",
         "Ford Torino",
         "17.0",
         "8",
         "302.0",
         "140.0",
         "3449.",
         "10.5",
         "70",
         "US"
        ],
        [
         "6",
         "Chevrolet Impala",
         "14.0",
         "8",
         "454.0",
         "220.0",
         "4354.",
         "9.0",
         "70",
         "US"
        ],
        [
         "7",
         "Plymouth Fury iii",
         "14.0",
         "8",
         "440.0",
         "215.0",
         "4312.",
         "8.5",
         "70",
         "US"
        ],
        [
         "8",
         "Pontiac Catalina",
         "14.0",
         "8",
         "455.0",
         "225.0",
         "4425.",
         "10.0",
         "70",
         "US"
        ],
        [
         "9",
         "AMC Ambassador DPL",
         "15.0",
         "8",
         "390.0",
         "190.0",
         "3850.",
         "8.5",
         "70",
         "US"
        ]
       ],
       "shape": {
        "columns": 9,
        "rows": 5
       }
      },
      "text/html": [
       "<div>\n",
       "<style scoped>\n",
       "    .dataframe tbody tr th:only-of-type {\n",
       "        vertical-align: middle;\n",
       "    }\n",
       "\n",
       "    .dataframe tbody tr th {\n",
       "        vertical-align: top;\n",
       "    }\n",
       "\n",
       "    .dataframe thead th {\n",
       "        text-align: right;\n",
       "    }\n",
       "</style>\n",
       "<table border=\"1\" class=\"dataframe\">\n",
       "  <thead>\n",
       "    <tr style=\"text-align: right;\">\n",
       "      <th></th>\n",
       "      <th>Car</th>\n",
       "      <th>MPG</th>\n",
       "      <th>Cylinders</th>\n",
       "      <th>Displacement</th>\n",
       "      <th>Horsepower</th>\n",
       "      <th>Weight</th>\n",
       "      <th>Acceleration</th>\n",
       "      <th>Model</th>\n",
       "      <th>Origin</th>\n",
       "    </tr>\n",
       "  </thead>\n",
       "  <tbody>\n",
       "    <tr>\n",
       "      <th>4</th>\n",
       "      <td>Ford Torino</td>\n",
       "      <td>17.0</td>\n",
       "      <td>8</td>\n",
       "      <td>302.0</td>\n",
       "      <td>140.0</td>\n",
       "      <td>3449.</td>\n",
       "      <td>10.5</td>\n",
       "      <td>70</td>\n",
       "      <td>US</td>\n",
       "    </tr>\n",
       "    <tr>\n",
       "      <th>6</th>\n",
       "      <td>Chevrolet Impala</td>\n",
       "      <td>14.0</td>\n",
       "      <td>8</td>\n",
       "      <td>454.0</td>\n",
       "      <td>220.0</td>\n",
       "      <td>4354.</td>\n",
       "      <td>9.0</td>\n",
       "      <td>70</td>\n",
       "      <td>US</td>\n",
       "    </tr>\n",
       "    <tr>\n",
       "      <th>7</th>\n",
       "      <td>Plymouth Fury iii</td>\n",
       "      <td>14.0</td>\n",
       "      <td>8</td>\n",
       "      <td>440.0</td>\n",
       "      <td>215.0</td>\n",
       "      <td>4312.</td>\n",
       "      <td>8.5</td>\n",
       "      <td>70</td>\n",
       "      <td>US</td>\n",
       "    </tr>\n",
       "    <tr>\n",
       "      <th>8</th>\n",
       "      <td>Pontiac Catalina</td>\n",
       "      <td>14.0</td>\n",
       "      <td>8</td>\n",
       "      <td>455.0</td>\n",
       "      <td>225.0</td>\n",
       "      <td>4425.</td>\n",
       "      <td>10.0</td>\n",
       "      <td>70</td>\n",
       "      <td>US</td>\n",
       "    </tr>\n",
       "    <tr>\n",
       "      <th>9</th>\n",
       "      <td>AMC Ambassador DPL</td>\n",
       "      <td>15.0</td>\n",
       "      <td>8</td>\n",
       "      <td>390.0</td>\n",
       "      <td>190.0</td>\n",
       "      <td>3850.</td>\n",
       "      <td>8.5</td>\n",
       "      <td>70</td>\n",
       "      <td>US</td>\n",
       "    </tr>\n",
       "  </tbody>\n",
       "</table>\n",
       "</div>"
      ],
      "text/plain": [
       "                  Car   MPG Cylinders Displacement Horsepower Weight  \\\n",
       "4         Ford Torino  17.0         8        302.0      140.0  3449.   \n",
       "6    Chevrolet Impala  14.0         8        454.0      220.0  4354.   \n",
       "7   Plymouth Fury iii  14.0         8        440.0      215.0  4312.   \n",
       "8    Pontiac Catalina  14.0         8        455.0      225.0  4425.   \n",
       "9  AMC Ambassador DPL  15.0         8        390.0      190.0  3850.   \n",
       "\n",
       "  Acceleration Model Origin  \n",
       "4         10.5    70     US  \n",
       "6          9.0    70     US  \n",
       "7          8.5    70     US  \n",
       "8         10.0    70     US  \n",
       "9          8.5    70     US  "
      ]
     },
     "execution_count": 248,
     "metadata": {},
     "output_type": "execute_result"
    }
   ],
   "source": [
    "# Drop all rows with any null values\n",
    "cars_clean = cars.dropna()\n",
    "\n",
    "# Show the shape and first few rows of the cleaned dataframe\n",
    "print(\"Shape after dropping rows with nulls:\", cars_clean.shape)\n",
    "cars_clean.head()\n"
   ]
  },
  {
   "attachments": {},
   "cell_type": "markdown",
   "metadata": {},
   "source": [
    "Lets also check dropping the columns"
   ]
  },
  {
   "cell_type": "code",
   "execution_count": 249,
   "metadata": {},
   "outputs": [
    {
     "name": "stdout",
     "output_type": "stream",
     "text": [
      "Shape after dropping columns with nulls: (406, 5)\n",
      "Columns remaining: ['Car', 'Cylinders', 'Acceleration', 'Model', 'Origin']\n"
     ]
    }
   ],
   "source": [
    "# Drop columns with any null values\n",
    "cars_no_null_cols = cars.dropna(axis=1)\n",
    "\n",
    "# Show the shape and column names after dropping columns with missing values\n",
    "print(\"Shape after dropping columns with nulls:\", cars_no_null_cols.shape)\n",
    "print(\"Columns remaining:\", cars_no_null_cols.columns.tolist())\n"
   ]
  },
  {
   "attachments": {},
   "cell_type": "markdown",
   "metadata": {},
   "source": [
    "Let's observe how many columns we lost"
   ]
  },
  {
   "cell_type": "code",
   "execution_count": 250,
   "metadata": {},
   "outputs": [
    {
     "name": "stdout",
     "output_type": "stream",
     "text": [
      "Original number of columns: 9\n",
      "Number of columns after dropping those with nulls: 5\n",
      "Number of columns lost: 4\n"
     ]
    }
   ],
   "source": [
    "# Number of columns before dropping\n",
    "original_column_count = cars.shape[1]\n",
    "\n",
    "# Number of columns after dropping columns with missing values\n",
    "after_drop_column_count = cars_no_null_cols.shape[1]\n",
    "\n",
    "# Calculate the number of columns lost\n",
    "columns_lost = original_column_count - after_drop_column_count\n",
    "\n",
    "print(f\"Original number of columns: {original_column_count}\")\n",
    "print(f\"Number of columns after dropping those with nulls: {after_drop_column_count}\")\n",
    "print(f\"Number of columns lost: {columns_lost}\")\n"
   ]
  },
  {
   "attachments": {},
   "cell_type": "markdown",
   "metadata": {},
   "source": [
    "### **Cars Dataset - Filling in missing values automatically**\n",
    "\n",
    "Another option is to try and fill in the missing values through imputations."
   ]
  },
  {
   "attachments": {},
   "cell_type": "markdown",
   "metadata": {},
   "source": [
    "Let's take the `MPG` column for example. We can fill in the missing values with 0s through the following line of code:\n",
    "\n",
    "`df_cars.fillna(0) `. "
   ]
  },
  {
   "cell_type": "code",
   "execution_count": 251,
   "metadata": {},
   "outputs": [
    {
     "data": {
      "application/vnd.microsoft.datawrangler.viewer.v0+json": {
       "columns": [
        {
         "name": "index",
         "rawType": "int64",
         "type": "integer"
        },
        {
         "name": "Car",
         "rawType": "object",
         "type": "string"
        },
        {
         "name": "MPG",
         "rawType": "object",
         "type": "unknown"
        },
        {
         "name": "Cylinders",
         "rawType": "object",
         "type": "string"
        },
        {
         "name": "Displacement",
         "rawType": "object",
         "type": "unknown"
        },
        {
         "name": "Horsepower",
         "rawType": "object",
         "type": "unknown"
        },
        {
         "name": "Weight",
         "rawType": "object",
         "type": "unknown"
        },
        {
         "name": "Acceleration",
         "rawType": "object",
         "type": "string"
        },
        {
         "name": "Model",
         "rawType": "object",
         "type": "string"
        },
        {
         "name": "Origin",
         "rawType": "object",
         "type": "string"
        }
       ],
       "ref": "2600496b-25cd-4674-840d-a416f843ce30",
       "rows": [
        [
         "0",
         "Chevrolet Chevelle Malibu",
         "0",
         "8",
         "307.0",
         "130.0",
         "3504.",
         "12.0",
         "70",
         "US"
        ],
        [
         "1",
         "Buick Skylark 320",
         "15.0",
         "8",
         "350.0",
         null,
         "3693.",
         "11.5",
         "70",
         "US"
        ],
        [
         "2",
         "Plymouth Satellite",
         "0",
         "8",
         "318.0",
         "150.0",
         "3436.",
         "11.0",
         "70",
         "US"
        ],
        [
         "3",
         "AMC Rebel SST",
         "16.0",
         "8",
         null,
         "150.0",
         null,
         "12.0",
         "70",
         "US"
        ],
        [
         "4",
         "Ford Torino",
         "17.0",
         "8",
         "302.0",
         "140.0",
         "3449.",
         "10.5",
         "70",
         "US"
        ]
       ],
       "shape": {
        "columns": 9,
        "rows": 5
       }
      },
      "text/html": [
       "<div>\n",
       "<style scoped>\n",
       "    .dataframe tbody tr th:only-of-type {\n",
       "        vertical-align: middle;\n",
       "    }\n",
       "\n",
       "    .dataframe tbody tr th {\n",
       "        vertical-align: top;\n",
       "    }\n",
       "\n",
       "    .dataframe thead th {\n",
       "        text-align: right;\n",
       "    }\n",
       "</style>\n",
       "<table border=\"1\" class=\"dataframe\">\n",
       "  <thead>\n",
       "    <tr style=\"text-align: right;\">\n",
       "      <th></th>\n",
       "      <th>Car</th>\n",
       "      <th>MPG</th>\n",
       "      <th>Cylinders</th>\n",
       "      <th>Displacement</th>\n",
       "      <th>Horsepower</th>\n",
       "      <th>Weight</th>\n",
       "      <th>Acceleration</th>\n",
       "      <th>Model</th>\n",
       "      <th>Origin</th>\n",
       "    </tr>\n",
       "  </thead>\n",
       "  <tbody>\n",
       "    <tr>\n",
       "      <th>0</th>\n",
       "      <td>Chevrolet Chevelle Malibu</td>\n",
       "      <td>0</td>\n",
       "      <td>8</td>\n",
       "      <td>307.0</td>\n",
       "      <td>130.0</td>\n",
       "      <td>3504.</td>\n",
       "      <td>12.0</td>\n",
       "      <td>70</td>\n",
       "      <td>US</td>\n",
       "    </tr>\n",
       "    <tr>\n",
       "      <th>1</th>\n",
       "      <td>Buick Skylark 320</td>\n",
       "      <td>15.0</td>\n",
       "      <td>8</td>\n",
       "      <td>350.0</td>\n",
       "      <td>NaN</td>\n",
       "      <td>3693.</td>\n",
       "      <td>11.5</td>\n",
       "      <td>70</td>\n",
       "      <td>US</td>\n",
       "    </tr>\n",
       "    <tr>\n",
       "      <th>2</th>\n",
       "      <td>Plymouth Satellite</td>\n",
       "      <td>0</td>\n",
       "      <td>8</td>\n",
       "      <td>318.0</td>\n",
       "      <td>150.0</td>\n",
       "      <td>3436.</td>\n",
       "      <td>11.0</td>\n",
       "      <td>70</td>\n",
       "      <td>US</td>\n",
       "    </tr>\n",
       "    <tr>\n",
       "      <th>3</th>\n",
       "      <td>AMC Rebel SST</td>\n",
       "      <td>16.0</td>\n",
       "      <td>8</td>\n",
       "      <td>NaN</td>\n",
       "      <td>150.0</td>\n",
       "      <td>NaN</td>\n",
       "      <td>12.0</td>\n",
       "      <td>70</td>\n",
       "      <td>US</td>\n",
       "    </tr>\n",
       "    <tr>\n",
       "      <th>4</th>\n",
       "      <td>Ford Torino</td>\n",
       "      <td>17.0</td>\n",
       "      <td>8</td>\n",
       "      <td>302.0</td>\n",
       "      <td>140.0</td>\n",
       "      <td>3449.</td>\n",
       "      <td>10.5</td>\n",
       "      <td>70</td>\n",
       "      <td>US</td>\n",
       "    </tr>\n",
       "  </tbody>\n",
       "</table>\n",
       "</div>"
      ],
      "text/plain": [
       "                         Car   MPG Cylinders Displacement Horsepower Weight  \\\n",
       "0  Chevrolet Chevelle Malibu     0         8        307.0      130.0  3504.   \n",
       "1          Buick Skylark 320  15.0         8        350.0        NaN  3693.   \n",
       "2         Plymouth Satellite     0         8        318.0      150.0  3436.   \n",
       "3              AMC Rebel SST  16.0         8          NaN      150.0    NaN   \n",
       "4                Ford Torino  17.0         8        302.0      140.0  3449.   \n",
       "\n",
       "  Acceleration Model Origin  \n",
       "0         12.0    70     US  \n",
       "1         11.5    70     US  \n",
       "2         11.0    70     US  \n",
       "3         12.0    70     US  \n",
       "4         10.5    70     US  "
      ]
     },
     "execution_count": 251,
     "metadata": {},
     "output_type": "execute_result"
    }
   ],
   "source": [
    "# Fill missing values in only the MPG column with 0\n",
    "cars['MPG'] = cars['MPG'].fillna(0)\n",
    "\n",
    "cars.head()\n"
   ]
  },
  {
   "attachments": {},
   "cell_type": "markdown",
   "metadata": {},
   "source": [
    "However, this does not make much sense as there isn't MPG equal to 0. How about we plot the MPG column and if it follows a random distribution we can use the mean of the column to compute the missing values. Otherwise, we can use the median (if there is a skewed normal distribution). However, there might be a better way of imputation which is getting the median or the mean of the MPG of the cars with similar attributes."
   ]
  },
  {
   "cell_type": "code",
   "execution_count": 252,
   "metadata": {},
   "outputs": [
    {
     "data": {
      "image/png": "[encoded data removed]",
      "text/plain": [
       "<Figure size 800x400 with 1 Axes>"
      ]
     },
     "metadata": {},
     "output_type": "display_data"
    }
   ],
   "source": [
    "import matplotlib.pyplot as plt\n",
    "\n",
    "# Plot a histogram of the MPG column (convert to numeric if not already)\n",
    "plt.figure(figsize=(8, 4))\n",
    "cars['MPG'] = pd.to_numeric(cars['MPG'], errors='coerce')\n",
    "cars['MPG'].hist(bins=20, edgecolor='black')\n",
    "plt.title('Distribution of MPG')\n",
    "plt.xlabel('MPG')\n",
    "plt.ylabel('Frequency')\n",
    "plt.show()"
   ]
  },
  {
   "attachments": {},
   "cell_type": "markdown",
   "metadata": {},
   "source": [
    "If we observe the graph above, we can consider it in a way or another normally distributed. Therefore, we can impute the missing values using the mean."
   ]
  },
  {
   "cell_type": "code",
   "execution_count": 253,
   "metadata": {},
   "outputs": [
    {
     "name": "stdout",
     "output_type": "stream",
     "text": [
      "Missing values in MPG after imputation: 0\n",
      "Mean used for imputation: 22.93\n"
     ]
    }
   ],
   "source": [
    "# If we observe the graph above, we can consider it in a way or another normally distributed.\n",
    "# Therefore, we can impute the missing values using the mean.\n",
    "\n",
    "mpg_mean = cars['MPG'].mean()\n",
    "cars['MPG'] = cars['MPG'].fillna(mpg_mean)\n",
    "print(f\"Missing values in MPG after imputation: {cars['MPG'].isnull().sum()}\")\n",
    "print(f\"Mean used for imputation: {round(mpg_mean, 2)}\")"
   ]
  },
  {
   "attachments": {},
   "cell_type": "markdown",
   "metadata": {},
   "source": [
    "To compute the mean we need numeric values. However the values in the dataframe are objects. Therefore, we need to change them to numerics so that we can compute them."
   ]
  },
  {
   "cell_type": "code",
   "execution_count": 254,
   "metadata": {},
   "outputs": [
    {
     "name": "stdout",
     "output_type": "stream",
     "text": [
      "float64\n"
     ]
    }
   ],
   "source": [
    "# Already done above, but if not:\n",
    "cars['MPG'] = pd.to_numeric(cars['MPG'], errors='coerce')\n",
    "print(cars['MPG'].dtype)"
   ]
  },
  {
   "attachments": {},
   "cell_type": "markdown",
   "metadata": {},
   "source": [
    "Now let's see what is the mean of the MPG column"
   ]
  },
  {
   "cell_type": "code",
   "execution_count": 255,
   "metadata": {},
   "outputs": [
    {
     "name": "stdout",
     "output_type": "stream",
     "text": [
      "Mean MPG: 22.93\n"
     ]
    }
   ],
   "source": [
    "mpg_mean = cars['MPG'].mean()\n",
    "\n",
    "print(\"Mean MPG:\", round(mpg_mean, 2))\n"
   ]
  },
  {
   "attachments": {},
   "cell_type": "markdown",
   "metadata": {},
   "source": [
    "We can use this mean to compute the missing values since the graph demonstarted a normal distribution"
   ]
  },
  {
   "cell_type": "code",
   "execution_count": 256,
   "metadata": {},
   "outputs": [
    {
     "name": "stdout",
     "output_type": "stream",
     "text": [
      "Missing values in MPG after imputation: 0\n",
      "Mean used for imputation: 22.93\n"
     ]
    }
   ],
   "source": [
    "mpg_mean = cars['MPG'].mean()\n",
    "cars['MPG'] = cars['MPG'].fillna(mpg_mean)\n",
    "print(f\"Missing values in MPG after imputation: {cars['MPG'].isnull().sum()}\")\n",
    "print(f\"Mean used for imputation: {round(mpg_mean, 2)}\")"
   ]
  },
  {
   "attachments": {},
   "cell_type": "markdown",
   "metadata": {},
   "source": [
    "### **Car Dataset - Simple Imputer**"
   ]
  },
  {
   "attachments": {},
   "cell_type": "markdown",
   "metadata": {},
   "source": [
    "*SimpleImputer* is a `scikit-learn` class which is helpful in handling the missing data in the predictive model dataset. It replaces the `NaN` values with a specified placeholder.\n",
    "It is implemented by the use of the `SimpleImputer()` method which takes the following arguments :\n",
    "\n",
    "`missing_values` : The missing_values placeholder which has to be imputed. By default is NaN\n",
    "\n",
    "`strategy` : The data which will replace the NaN values from the dataset. The strategy argument can take the values – ‘mean'(default), ‘median’, ‘most_frequent’ and ‘constant’.\n"
   ]
  },
  {
   "attachments": {},
   "cell_type": "markdown",
   "metadata": {},
   "source": [
    "Let's start by importing the `SimpleImputer` into our notebook"
   ]
  },
  {
   "cell_type": "code",
   "execution_count": 257,
   "metadata": {},
   "outputs": [],
   "source": [
    "from sklearn.impute import SimpleImputer"
   ]
  },
  {
   "attachments": {},
   "cell_type": "markdown",
   "metadata": {},
   "source": [
    "What we need to do are two essential steps:\n",
    "\n",
    "1. fit the data (compute the mean / median / most freq)\n",
    "2. transform the data (place the computed values in the NaN cells)"
   ]
  },
  {
   "cell_type": "code",
   "execution_count": 258,
   "metadata": {},
   "outputs": [],
   "source": [
    "# Make sure MPG is numeric\n",
    "cars['MPG'] = pd.to_numeric(cars['MPG'], errors='coerce')\n",
    "\n",
    "# Create the imputer (use mean strategy)\n",
    "imputer = SimpleImputer(missing_values=np.nan, strategy='mean')\n"
   ]
  },
  {
   "cell_type": "code",
   "execution_count": 259,
   "metadata": {},
   "outputs": [
    {
     "name": "stdout",
     "output_type": "stream",
     "text": [
      "Missing values filled using median imputation:\n"
     ]
    },
    {
     "data": {
      "application/vnd.microsoft.datawrangler.viewer.v0+json": {
       "columns": [
        {
         "name": "index",
         "rawType": "int64",
         "type": "integer"
        },
        {
         "name": "Car",
         "rawType": "object",
         "type": "string"
        },
        {
         "name": "MPG",
         "rawType": "float64",
         "type": "float"
        },
        {
         "name": "Cylinders",
         "rawType": "object",
         "type": "string"
        },
        {
         "name": "Displacement",
         "rawType": "object",
         "type": "unknown"
        },
        {
         "name": "Horsepower",
         "rawType": "object",
         "type": "unknown"
        },
        {
         "name": "Weight",
         "rawType": "object",
         "type": "unknown"
        },
        {
         "name": "Acceleration",
         "rawType": "object",
         "type": "string"
        },
        {
         "name": "Model",
         "rawType": "object",
         "type": "string"
        },
        {
         "name": "Origin",
         "rawType": "object",
         "type": "string"
        }
       ],
       "ref": "c8a9bb9e-b20d-4f5f-a118-671e721b1247",
       "rows": [
        [
         "0",
         "Chevrolet Chevelle Malibu",
         "0.0",
         "8",
         "307.0",
         "130.0",
         "3504.",
         "12.0",
         "70",
         "US"
        ],
        [
         "1",
         "Buick Skylark 320",
         "15.0",
         "8",
         "350.0",
         null,
         "3693.",
         "11.5",
         "70",
         "US"
        ],
        [
         "2",
         "Plymouth Satellite",
         "0.0",
         "8",
         "318.0",
         "150.0",
         "3436.",
         "11.0",
         "70",
         "US"
        ],
        [
         "3",
         "AMC Rebel SST",
         "16.0",
         "8",
         null,
         "150.0",
         null,
         "12.0",
         "70",
         "US"
        ],
        [
         "4",
         "Ford Torino",
         "17.0",
         "8",
         "302.0",
         "140.0",
         "3449.",
         "10.5",
         "70",
         "US"
        ]
       ],
       "shape": {
        "columns": 9,
        "rows": 5
       }
      },
      "text/html": [
       "<div>\n",
       "<style scoped>\n",
       "    .dataframe tbody tr th:only-of-type {\n",
       "        vertical-align: middle;\n",
       "    }\n",
       "\n",
       "    .dataframe tbody tr th {\n",
       "        vertical-align: top;\n",
       "    }\n",
       "\n",
       "    .dataframe thead th {\n",
       "        text-align: right;\n",
       "    }\n",
       "</style>\n",
       "<table border=\"1\" class=\"dataframe\">\n",
       "  <thead>\n",
       "    <tr style=\"text-align: right;\">\n",
       "      <th></th>\n",
       "      <th>Car</th>\n",
       "      <th>MPG</th>\n",
       "      <th>Cylinders</th>\n",
       "      <th>Displacement</th>\n",
       "      <th>Horsepower</th>\n",
       "      <th>Weight</th>\n",
       "      <th>Acceleration</th>\n",
       "      <th>Model</th>\n",
       "      <th>Origin</th>\n",
       "    </tr>\n",
       "  </thead>\n",
       "  <tbody>\n",
       "    <tr>\n",
       "      <th>0</th>\n",
       "      <td>Chevrolet Chevelle Malibu</td>\n",
       "      <td>0.0</td>\n",
       "      <td>8</td>\n",
       "      <td>307.0</td>\n",
       "      <td>130.0</td>\n",
       "      <td>3504.</td>\n",
       "      <td>12.0</td>\n",
       "      <td>70</td>\n",
       "      <td>US</td>\n",
       "    </tr>\n",
       "    <tr>\n",
       "      <th>1</th>\n",
       "      <td>Buick Skylark 320</td>\n",
       "      <td>15.0</td>\n",
       "      <td>8</td>\n",
       "      <td>350.0</td>\n",
       "      <td>NaN</td>\n",
       "      <td>3693.</td>\n",
       "      <td>11.5</td>\n",
       "      <td>70</td>\n",
       "      <td>US</td>\n",
       "    </tr>\n",
       "    <tr>\n",
       "      <th>2</th>\n",
       "      <td>Plymouth Satellite</td>\n",
       "      <td>0.0</td>\n",
       "      <td>8</td>\n",
       "      <td>318.0</td>\n",
       "      <td>150.0</td>\n",
       "      <td>3436.</td>\n",
       "      <td>11.0</td>\n",
       "      <td>70</td>\n",
       "      <td>US</td>\n",
       "    </tr>\n",
       "    <tr>\n",
       "      <th>3</th>\n",
       "      <td>AMC Rebel SST</td>\n",
       "      <td>16.0</td>\n",
       "      <td>8</td>\n",
       "      <td>NaN</td>\n",
       "      <td>150.0</td>\n",
       "      <td>NaN</td>\n",
       "      <td>12.0</td>\n",
       "      <td>70</td>\n",
       "      <td>US</td>\n",
       "    </tr>\n",
       "    <tr>\n",
       "      <th>4</th>\n",
       "      <td>Ford Torino</td>\n",
       "      <td>17.0</td>\n",
       "      <td>8</td>\n",
       "      <td>302.0</td>\n",
       "      <td>140.0</td>\n",
       "      <td>3449.</td>\n",
       "      <td>10.5</td>\n",
       "      <td>70</td>\n",
       "      <td>US</td>\n",
       "    </tr>\n",
       "  </tbody>\n",
       "</table>\n",
       "</div>"
      ],
      "text/plain": [
       "                         Car   MPG Cylinders Displacement Horsepower Weight  \\\n",
       "0  Chevrolet Chevelle Malibu   0.0         8        307.0      130.0  3504.   \n",
       "1          Buick Skylark 320  15.0         8        350.0        NaN  3693.   \n",
       "2         Plymouth Satellite   0.0         8        318.0      150.0  3436.   \n",
       "3              AMC Rebel SST  16.0         8          NaN      150.0    NaN   \n",
       "4                Ford Torino  17.0         8        302.0      140.0  3449.   \n",
       "\n",
       "  Acceleration Model Origin  \n",
       "0         12.0    70     US  \n",
       "1         11.5    70     US  \n",
       "2         11.0    70     US  \n",
       "3         12.0    70     US  \n",
       "4         10.5    70     US  "
      ]
     },
     "metadata": {},
     "output_type": "display_data"
    }
   ],
   "source": [
    "# Select only numeric columns for imputation\n",
    "numeric_df = cars.select_dtypes(include=['float64', 'int64'])\n",
    "\n",
    "# Initialize the imputer with 'median' strategy\n",
    "imputer = SimpleImputer(strategy='median')\n",
    "\n",
    "# Fit and transform in one step\n",
    "imputed_array = imputer.fit_transform(numeric_df)\n",
    "\n",
    "# Put imputed values back into the original dataframe\n",
    "cars[numeric_df.columns] = imputed_array\n",
    "\n",
    "# Show result\n",
    "print(\"Missing values filled using median imputation:\")\n",
    "display(cars.head())"
   ]
  },
  {
   "cell_type": "markdown",
   "metadata": {},
   "source": [
    "## **Outlier Detection** \n",
    "\n",
    "\n",
    "An Outlier is a data-item/object that deviates significantly from the rest of the (so-called normal)objects. They can be caused by measurement or execution errors. The analysis for outlier detection is referred to as outlier mining. There are many ways to detect the outliers, and the removal process is the data frame same as removing a data item from the panda’s data frame.\n",
    "\n",
    "\n",
    "\n",
    "https://www.geeksforgeeks.org/detect-and-remove-the-outliers-using-python/\n",
    "\n",
    "\n",
    "\n"
   ]
  },
  {
   "cell_type": "markdown",
   "metadata": {},
   "source": [
    "I have taken the synthetic dataset for the diabetics as mentioned in the rubrics. I have performed the different values as per the requirements of the lab. "
   ]
  },
  {
   "cell_type": "code",
   "execution_count": 260,
   "metadata": {},
   "outputs": [
    {
     "data": {
      "application/vnd.microsoft.datawrangler.viewer.v0+json": {
       "columns": [
        {
         "name": "index",
         "rawType": "int64",
         "type": "integer"
        },
        {
         "name": "age",
         "rawType": "float64",
         "type": "float"
        },
        {
         "name": "sex",
         "rawType": "float64",
         "type": "float"
        },
        {
         "name": "bmi",
         "rawType": "float64",
         "type": "float"
        },
        {
         "name": "bp",
         "rawType": "float64",
         "type": "float"
        },
        {
         "name": "s1",
         "rawType": "float64",
         "type": "float"
        },
        {
         "name": "s2",
         "rawType": "float64",
         "type": "float"
        },
        {
         "name": "s3",
         "rawType": "float64",
         "type": "float"
        },
        {
         "name": "s4",
         "rawType": "float64",
         "type": "float"
        },
        {
         "name": "s5",
         "rawType": "float64",
         "type": "float"
        },
        {
         "name": "s6",
         "rawType": "float64",
         "type": "float"
        }
       ],
       "ref": "4e0f10c3-2884-41ff-9f64-e75a198c13a3",
       "rows": [
        [
         "0",
         "0.038075906433423026",
         "0.05068011873981862",
         "0.061696206518683294",
         "0.0218723855140367",
         "-0.04422349842444599",
         "-0.03482076283769895",
         "-0.04340084565202491",
         "-0.002592261998183278",
         "0.019907486170462722",
         "-0.01764612515980379"
        ],
        [
         "1",
         "-0.0018820165277906047",
         "-0.044641636506989144",
         "-0.051474061238800654",
         "-0.02632752814785296",
         "-0.008448724111216851",
         "-0.019163339748222204",
         "0.07441156407875721",
         "-0.03949338287409329",
         "-0.0683315470939731",
         "-0.092204049626824"
        ],
        [
         "2",
         "0.08529890629667548",
         "0.05068011873981862",
         "0.04445121333659049",
         "-0.00567042229275739",
         "-0.04559945128264711",
         "-0.03419446591411989",
         "-0.03235593223976409",
         "-0.002592261998183278",
         "0.002861309289833047",
         "-0.025930338989472702"
        ],
        [
         "3",
         "-0.0890629393522567",
         "-0.044641636506989144",
         "-0.011595014505211082",
         "-0.03665608107540074",
         "0.01219056876179996",
         "0.02499059336410222",
         "-0.036037570043851025",
         "0.03430885887772673",
         "0.022687744966501246",
         "-0.009361911330134878"
        ],
        [
         "4",
         "0.005383060374248237",
         "-0.044641636506989144",
         "-0.03638469220446948",
         "0.0218723855140367",
         "0.003934851612593237",
         "0.015596139510416171",
         "0.008142083605192267",
         "-0.002592261998183278",
         "-0.03198763948805312",
         "-0.04664087356364498"
        ]
       ],
       "shape": {
        "columns": 10,
        "rows": 5
       }
      },
      "text/html": [
       "<div>\n",
       "<style scoped>\n",
       "    .dataframe tbody tr th:only-of-type {\n",
       "        vertical-align: middle;\n",
       "    }\n",
       "\n",
       "    .dataframe tbody tr th {\n",
       "        vertical-align: top;\n",
       "    }\n",
       "\n",
       "    .dataframe thead th {\n",
       "        text-align: right;\n",
       "    }\n",
       "</style>\n",
       "<table border=\"1\" class=\"dataframe\">\n",
       "  <thead>\n",
       "    <tr style=\"text-align: right;\">\n",
       "      <th></th>\n",
       "      <th>age</th>\n",
       "      <th>sex</th>\n",
       "      <th>bmi</th>\n",
       "      <th>bp</th>\n",
       "      <th>s1</th>\n",
       "      <th>s2</th>\n",
       "      <th>s3</th>\n",
       "      <th>s4</th>\n",
       "      <th>s5</th>\n",
       "      <th>s6</th>\n",
       "    </tr>\n",
       "  </thead>\n",
       "  <tbody>\n",
       "    <tr>\n",
       "      <th>0</th>\n",
       "      <td>0.038076</td>\n",
       "      <td>0.050680</td>\n",
       "      <td>0.061696</td>\n",
       "      <td>0.021872</td>\n",
       "      <td>-0.044223</td>\n",
       "      <td>-0.034821</td>\n",
       "      <td>-0.043401</td>\n",
       "      <td>-0.002592</td>\n",
       "      <td>0.019907</td>\n",
       "      <td>-0.017646</td>\n",
       "    </tr>\n",
       "    <tr>\n",
       "      <th>1</th>\n",
       "      <td>-0.001882</td>\n",
       "      <td>-0.044642</td>\n",
       "      <td>-0.051474</td>\n",
       "      <td>-0.026328</td>\n",
       "      <td>-0.008449</td>\n",
       "      <td>-0.019163</td>\n",
       "      <td>0.074412</td>\n",
       "      <td>-0.039493</td>\n",
       "      <td>-0.068332</td>\n",
       "      <td>-0.092204</td>\n",
       "    </tr>\n",
       "    <tr>\n",
       "      <th>2</th>\n",
       "      <td>0.085299</td>\n",
       "      <td>0.050680</td>\n",
       "      <td>0.044451</td>\n",
       "      <td>-0.005670</td>\n",
       "      <td>-0.045599</td>\n",
       "      <td>-0.034194</td>\n",
       "      <td>-0.032356</td>\n",
       "      <td>-0.002592</td>\n",
       "      <td>0.002861</td>\n",
       "      <td>-0.025930</td>\n",
       "    </tr>\n",
       "    <tr>\n",
       "      <th>3</th>\n",
       "      <td>-0.089063</td>\n",
       "      <td>-0.044642</td>\n",
       "      <td>-0.011595</td>\n",
       "      <td>-0.036656</td>\n",
       "      <td>0.012191</td>\n",
       "      <td>0.024991</td>\n",
       "      <td>-0.036038</td>\n",
       "      <td>0.034309</td>\n",
       "      <td>0.022688</td>\n",
       "      <td>-0.009362</td>\n",
       "    </tr>\n",
       "    <tr>\n",
       "      <th>4</th>\n",
       "      <td>0.005383</td>\n",
       "      <td>-0.044642</td>\n",
       "      <td>-0.036385</td>\n",
       "      <td>0.021872</td>\n",
       "      <td>0.003935</td>\n",
       "      <td>0.015596</td>\n",
       "      <td>0.008142</td>\n",
       "      <td>-0.002592</td>\n",
       "      <td>-0.031988</td>\n",
       "      <td>-0.046641</td>\n",
       "    </tr>\n",
       "  </tbody>\n",
       "</table>\n",
       "</div>"
      ],
      "text/plain": [
       "        age       sex       bmi        bp        s1        s2        s3  \\\n",
       "0  0.038076  0.050680  0.061696  0.021872 -0.044223 -0.034821 -0.043401   \n",
       "1 -0.001882 -0.044642 -0.051474 -0.026328 -0.008449 -0.019163  0.074412   \n",
       "2  0.085299  0.050680  0.044451 -0.005670 -0.045599 -0.034194 -0.032356   \n",
       "3 -0.089063 -0.044642 -0.011595 -0.036656  0.012191  0.024991 -0.036038   \n",
       "4  0.005383 -0.044642 -0.036385  0.021872  0.003935  0.015596  0.008142   \n",
       "\n",
       "         s4        s5        s6  \n",
       "0 -0.002592  0.019907 -0.017646  \n",
       "1 -0.039493 -0.068332 -0.092204  \n",
       "2 -0.002592  0.002861 -0.025930  \n",
       "3  0.034309  0.022688 -0.009362  \n",
       "4 -0.002592 -0.031988 -0.046641  "
      ]
     },
     "execution_count": 260,
     "metadata": {},
     "output_type": "execute_result"
    }
   ],
   "source": [
    "# Importing\n",
    "import sklearn\n",
    "from sklearn.datasets import load_diabetes\n",
    "import pandas as pd\n",
    "import matplotlib.pyplot as plt\n",
    "\n",
    "# Load the dataset\n",
    "diabetics = load_diabetes()\n",
    "\n",
    "# Create the dataframe\n",
    "column_name = diabetics.feature_names\n",
    "df_diabetics = pd.DataFrame(diabetics.data)\n",
    "df_diabetics.columns = column_name\n",
    "df_diabetics.head()"
   ]
  },
  {
   "cell_type": "markdown",
   "metadata": {},
   "source": [
    "### Outliers Visualization"
   ]
  },
  {
   "cell_type": "markdown",
   "metadata": {},
   "source": [
    "#### Visualizing Outliers Using Box Plot\n",
    "It captures the summary of the data effectively and efficiently with only a simple box and whiskers. Boxplot summarizes sample data using 25th, 50th, and 75th percentiles. One can just get insights(quartiles, median, and outliers) into the dataset by just looking at its boxplot."
   ]
  },
  {
   "cell_type": "code",
   "execution_count": 261,
   "metadata": {},
   "outputs": [
    {
     "data": {
      "image/png": "[encoded data removed]",
      "text/plain": [
       "<Figure size 800x600 with 1 Axes>"
      ]
     },
     "metadata": {},
     "output_type": "display_data"
    }
   ],
   "source": [
    "import matplotlib.pyplot as plt\n",
    "\n",
    "plt.figure(figsize=(8, 6))\n",
    "plt.boxplot(df_diabetics['bmi'], vert=False)  # Horizontal box plot\n",
    "plt.title('Horizontal Box Plot of BMI')\n",
    "plt.xlabel('BMI (standardized)')\n",
    "plt.show()\n"
   ]
  },
  {
   "cell_type": "markdown",
   "metadata": {},
   "source": [
    "**Visualizing BMI Distribution with a Horizontal Box Plot**\n",
    "\n",
    "We will use a horizontal box plot to visualize the distribution of the 'bmi' variable in the diabetics dataset. A box plot helps to identify the median, quartiles, and any potential outliers in the data.\n",
    "\n",
    "---\n"
   ]
  },
  {
   "cell_type": "markdown",
   "metadata": {},
   "source": [
    "#### Visualizing Outliers Using ScatterPlot.\n",
    "\n",
    "It is used when you have paired numerical data and when your dependent variable has multiple values for each reading independent variable, or when trying to determine the relationship between the two variables. In the process of utilizing the scatter plot, one can also use it for outlier detection."
   ]
  },
  {
   "cell_type": "code",
   "execution_count": 262,
   "metadata": {},
   "outputs": [
    {
     "data": {
      "image/png": "[encoded data removed]",
      "text/plain": [
       "<Figure size 800x500 with 1 Axes>"
      ]
     },
     "metadata": {},
     "output_type": "display_data"
    }
   ],
   "source": [
    "import matplotlib.pyplot as plt\n",
    "\n",
    "plt.figure(figsize=(8, 5))\n",
    "plt.scatter(df_diabetics['age'], df_diabetics['bmi'], alpha=0.7)\n",
    "plt.xlabel('Age')\n",
    "plt.ylabel('BMI')\n",
    "plt.title('Scatter Plot of Age vs. BMI (Outlier Detection)')\n",
    "plt.show()\n"
   ]
  },
  {
   "cell_type": "markdown",
   "metadata": {},
   "source": [
    "**Scatter Plot: Age vs. BMI (Outlier Detection)**\n",
    "\n",
    "We will create a scatter plot to visualize the relationship between Age and BMI in the diabetics dataset. This helps to identify patterns, correlations, and possible outliers between these two variables.\n",
    "\n",
    "---"
   ]
  },
  {
   "cell_type": "markdown",
   "metadata": {},
   "source": [
    "#### Z-Score:\n",
    "Z- Score is also called a standard score. This value/score helps to understand that how far is the data point from the mean. And after setting up a threshold value one can utilize z score values of data points to define the outliers.\n",
    "<br>\n",
    "Zscore = (data_point -mean) / std. deviation\n",
    "\n"
   ]
  },
  {
   "cell_type": "code",
   "execution_count": 263,
   "metadata": {},
   "outputs": [
    {
     "name": "stdout",
     "output_type": "stream",
     "text": [
      "Number of outliers in BMI: 2\n",
      "          bmi  bmi_zscore\n",
      "256  0.160855    3.377953\n",
      "367  0.170555    3.581660\n"
     ]
    }
   ],
   "source": [
    "# Step 1: Import everything\n",
    "from sklearn.datasets import load_diabetes\n",
    "import pandas as pd\n",
    "import numpy as np\n",
    "\n",
    "# Step 2: Load the dataset and create DataFrame\n",
    "diabetics = load_diabetes()\n",
    "df_diabetics = pd.DataFrame(diabetics.data, columns=diabetics.feature_names)\n",
    "\n",
    "# Step 3: Calculate Z-scores for 'bmi'\n",
    "mean_bmi = df_diabetics['bmi'].mean()\n",
    "std_bmi = df_diabetics['bmi'].std()\n",
    "z_scores = (df_diabetics['bmi'] - mean_bmi) / std_bmi\n",
    "\n",
    "# Optional: Add as a new column\n",
    "df_diabetics['bmi_zscore'] = z_scores\n",
    "\n",
    "# Step 4: Get outliers (|z| > 3)\n",
    "outliers = df_diabetics[np.abs(z_scores) > 3]\n",
    "\n",
    "print(\"Number of outliers in BMI:\", outliers.shape[0])\n",
    "print(outliers[['bmi', 'bmi_zscore']])\n"
   ]
  },
  {
   "cell_type": "markdown",
   "metadata": {},
   "source": [
    "Now to define an outlier threshold value is chosen which is generally 3.0. As 99.7% of the data points lie between +/- 3 standard deviation (using Gaussian Distribution approach).\n",
    "\n",
    "Rows where Z value is greater than 2"
   ]
  },
  {
   "cell_type": "code",
   "execution_count": 264,
   "metadata": {},
   "outputs": [
    {
     "name": "stdout",
     "output_type": "stream",
     "text": [
      "Rows where BMI Z-score is > 2 or < -2:\n",
      "          bmi  bmi_zscore\n",
      "32   0.125287    2.631029\n",
      "114  0.110198    2.314153\n",
      "130  0.096186    2.019910\n",
      "138  0.111276    2.336787\n",
      "145  0.128521    2.698932\n",
      "251  0.098342    2.065178\n",
      "256  0.160855    3.377953\n",
      "262  0.127443    2.676298\n",
      "327  0.114509    2.404689\n",
      "332  0.104809    2.200982\n",
      "362  0.104809    2.200982\n",
      "366  0.137143    2.880004\n",
      "367  0.170555    3.581660\n",
      "403  0.097264    2.042544\n",
      "405  0.123131    2.585761\n"
     ]
    }
   ],
   "source": [
    "# Assuming df_diabetics and the 'bmi_zscore' column already exist\n",
    "\n",
    "# Find rows where Z-score > 2 or Z-score < -2\n",
    "outliers_2 = df_diabetics[(df_diabetics['bmi_zscore'] > 2) | (df_diabetics['bmi_zscore'] < -2)]\n",
    "\n",
    "print(\"Rows where BMI Z-score is > 2 or < -2:\")\n",
    "print(outliers_2[['bmi', 'bmi_zscore']])\n"
   ]
  },
  {
   "cell_type": "markdown",
   "metadata": {},
   "source": [
    "#### IQR (Inter-Quartile Range)\n",
    "Inter Quartile Range approach to finding the outliers is the most commonly used and most trusted approach used in the research field. <Br>\n",
    "IQR = Quartile3 - Quartile1"
   ]
  },
  {
   "cell_type": "code",
   "execution_count": 265,
   "metadata": {},
   "outputs": [
    {
     "name": "stdout",
     "output_type": "stream",
     "text": [
      "Number of IQR outliers in BMI: 3\n",
      "          bmi\n",
      "256  0.160855\n",
      "366  0.137143\n",
      "367  0.170555\n"
     ]
    }
   ],
   "source": [
    "# Calculate Q1 and Q3\n",
    "Q1 = df_diabetics['bmi'].quantile(0.25)\n",
    "Q3 = df_diabetics['bmi'].quantile(0.75)\n",
    "IQR = Q3 - Q1\n",
    "\n",
    "# Calculate bounds\n",
    "lower_bound = Q1 - 1.5 * IQR\n",
    "upper_bound = Q3 + 1.5 * IQR\n",
    "\n",
    "# Find outliers\n",
    "iqr_outliers = df_diabetics[(df_diabetics['bmi'] < lower_bound) | (df_diabetics['bmi'] > upper_bound)]\n",
    "\n",
    "print(\"Number of IQR outliers in BMI:\", iqr_outliers.shape[0])\n",
    "print(iqr_outliers[['bmi']])\n"
   ]
  },
  {
   "cell_type": "markdown",
   "metadata": {},
   "source": [
    "To define the outlier base value is defined above and below dataset’s normal range namely Upper and Lower bounds, define the upper and the lower bound (1.5*IQR value is considered) :<br>\n",
    "upper = Q3 + 1.5 * IQR <br>\n",
    "lower = Q1 - 1.5 * IQR <br> "
   ]
  },
  {
   "cell_type": "code",
   "execution_count": 266,
   "metadata": {},
   "outputs": [
    {
     "name": "stdout",
     "output_type": "stream",
     "text": [
      "Lower Bound for BMI Outliers: -0.13244469328909578\n",
      "Upper Bound for BMI Outliers: 0.1294636406639386\n"
     ]
    }
   ],
   "source": [
    "# Calculate Q1, Q3, and IQR\n",
    "Q1 = df_diabetics['bmi'].quantile(0.25)\n",
    "Q3 = df_diabetics['bmi'].quantile(0.75)\n",
    "IQR = Q3 - Q1\n",
    "\n",
    "# Calculate the bounds\n",
    "lower_bound = Q1 - 1.5 * IQR\n",
    "upper_bound = Q3 + 1.5 * IQR\n",
    "\n",
    "print(\"Lower Bound for BMI Outliers:\", lower_bound)\n",
    "print(\"Upper Bound for BMI Outliers:\", upper_bound)\n"
   ]
  },
  {
   "cell_type": "markdown",
   "metadata": {},
   "source": [
    "- Removing the outliers:   \n",
    "  For removing the outlier, one must follow the same process of removing an entry from the dataset using its exact position in the dataset because in all the above methods of detecting the outliers end result is the list of all those data items that satisfy the outlier definition according to the method used."
   ]
  },
  {
   "cell_type": "code",
   "execution_count": 267,
   "metadata": {},
   "outputs": [
    {
     "name": "stdout",
     "output_type": "stream",
     "text": [
      "Original shape: (442, 11)\n",
      "Shape after removing BMI outliers: (439, 11)\n"
     ]
    }
   ],
   "source": [
    "# First, define the bounds (from previous steps)\n",
    "Q1 = df_diabetics['bmi'].quantile(0.25)\n",
    "Q3 = df_diabetics['bmi'].quantile(0.75)\n",
    "IQR = Q3 - Q1\n",
    "lower_bound = Q1 - 1.5 * IQR\n",
    "upper_bound = Q3 + 1.5 * IQR\n",
    "\n",
    "# Remove outliers: keep only those within the bounds\n",
    "df_diabetics_no_outliers = df_diabetics[(df_diabetics['bmi'] >= lower_bound) & (df_diabetics['bmi'] <= upper_bound)]\n",
    "\n",
    "print(\"Original shape:\", df_diabetics.shape)\n",
    "print(\"Shape after removing BMI outliers:\", df_diabetics_no_outliers.shape)\n"
   ]
  }
 ],
 "metadata": {
  "kernelspec": {
   "display_name": "Python 3",
   "language": "python",
   "name": "python3"
  },
  "language_info": {
   "codemirror_mode": {
    "name": "ipython",
    "version": 3
   },
   "file_extension": ".py",
   "mimetype": "text/x-python",
   "name": "python",
   "nbconvert_exporter": "python",
   "pygments_lexer": "ipython3",
   "version": "3.13.4"
  },
  "orig_nbformat": 4
 },
 "nbformat": 4,
 "nbformat_minor": 2
}
